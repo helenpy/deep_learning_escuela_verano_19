{
 "cells": [
  {
   "cell_type": "markdown",
   "metadata": {},
   "source": [
    "# DL dia a dia\n",
    "<a href=\"https://colab.research.google.com/github/beangoben/deep_learning_escuela_verano_19/blob/master/notebooks/2b_DL_dia_a_dia.ipynb\" target=\"_parent\"><img src=\"https://colab.research.google.com/assets/colab-badge.svg\" alt=\"Open In Colab\"/></a>"
   ]
  },
  {
   "cell_type": "markdown",
   "metadata": {
    "toc": true
   },
   "source": [
    "<h1>Table of Contents<span class=\"tocSkip\"></span></h1>\n",
    "<div class=\"toc\"><ul class=\"toc-item\"><li><span><a href=\"#Cargamos-librerias\" data-toc-modified-id=\"Cargamos-librerias-1\">Cargamos librerias</a></span><ul class=\"toc-item\"><li><span><a href=\"#metricas-de-evaluacion-(sigmas)-+-funciones-de-utilidad\" data-toc-modified-id=\"metricas-de-evaluacion-(sigmas)-+-funciones-de-utilidad-1.1\">metricas de evaluacion (sigmas) + funciones de utilidad</a></span></li><li><span><a href=\"#Datos-de-entrenamiento!\" data-toc-modified-id=\"Datos-de-entrenamiento!-1.2\">Datos de entrenamiento!</a></span></li><li><span><a href=\"#preprocesamiento-para-X-y-Y\" data-toc-modified-id=\"preprocesamiento-para-X-y-Y-1.3\">preprocesamiento para X y Y</a></span></li></ul></li><li><span><a href=\"#Tensorflow\" data-toc-modified-id=\"Tensorflow-2\">Tensorflow</a></span></li><li><span><a href=\"#Keras\" data-toc-modified-id=\"Keras-3\">Keras</a></span><ul class=\"toc-item\"><li><span><a href=\"#Red-sencillita\" data-toc-modified-id=\"Red-sencillita-3.1\">Red sencillita</a></span></li><li><span><a href=\"#Calidad-de-vida:-liveloss!\" data-toc-modified-id=\"Calidad-de-vida:-liveloss!-3.2\">Calidad de vida: liveloss!</a></span></li><li><span><a href=\"#Calidad-de-vida:-agregando-un-tensorboard-y-un-learn-rate-scheduler\" data-toc-modified-id=\"Calidad-de-vida:-agregando-un-tensorboard-y-un-learn-rate-scheduler-3.3\">Calidad de vida: agregando un tensorboard y un learn rate scheduler</a></span></li><li><span><a href=\"#Trucos:-Regularizadores-de-redes\" data-toc-modified-id=\"Trucos:-Regularizadores-de-redes-3.4\">Trucos: Regularizadores de redes</a></span></li><li><span><a href=\"#Actividad:-Crea-una-red-profunda\" data-toc-modified-id=\"Actividad:-Crea-una-red-profunda-3.5\">Actividad: Crea una red profunda</a></span></li><li><span><a href=\"#trucos:-Dropout\" data-toc-modified-id=\"trucos:-Dropout-3.6\">trucos: Dropout</a></span></li><li><span><a href=\"#Trucos:-BatchNormalization-y-Activacion!\" data-toc-modified-id=\"Trucos:-BatchNormalization-y-Activacion!-3.7\">Trucos: BatchNormalization y Activacion!</a></span></li><li><span><a href=\"#Keras-Functional\" data-toc-modified-id=\"Keras-Functional-3.8\">Keras Functional</a></span></li><li><span><a href=\"#Truco:-Skip-connections\" data-toc-modified-id=\"Truco:-Skip-connections-3.9\">Truco: Skip connections</a></span></li><li><span><a href=\"#Optimizador\" data-toc-modified-id=\"Optimizador-3.10\">Optimizador</a></span></li><li><span><a href=\"#Controlando-el-learning-rate\" data-toc-modified-id=\"Controlando-el-learning-rate-3.11\">Controlando el learning rate</a></span></li><li><span><a href=\"#Actividad:-Crea-una-red-poderosa!\" data-toc-modified-id=\"Actividad:-Crea-una-red-poderosa!-3.12\">Actividad: Crea una red poderosa!</a></span></li></ul></li><li><span><a href=\"#Pytorch\" data-toc-modified-id=\"Pytorch-4\">Pytorch</a></span></li></ul></div>"
   ]
  },
  {
   "cell_type": "markdown",
   "metadata": {},
   "source": [
    "![](extra/atlas.png)\n",
    "# Cargamos librerias"
   ]
  },
  {
   "cell_type": "code",
   "execution_count": 1,
   "metadata": {
    "ExecuteTime": {
     "end_time": "2018-08-24T08:17:47.151173Z",
     "start_time": "2018-08-24T08:17:46.814786Z"
    }
   },
   "outputs": [],
   "source": [
    "%matplotlib inline\n",
    "%config InlineBackend.figure_format='retina'\n",
    "import matplotlib\n",
    "import matplotlib.pyplot as plt"
   ]
  },
  {
   "cell_type": "code",
   "execution_count": 2,
   "metadata": {
    "ExecuteTime": {
     "end_time": "2018-08-24T08:17:47.725328Z",
     "start_time": "2018-08-24T08:17:47.152976Z"
    }
   },
   "outputs": [],
   "source": [
    "import numpy as np\n",
    "import scipy as sc\n",
    "import pandas as pd\n",
    "import sklearn\n",
    "import matplotlib.pyplot as plt\n",
    "import seaborn as sns\n",
    "import os\n",
    "from IPython.display import display\n",
    "import sys"
   ]
  },
  {
   "cell_type": "markdown",
   "metadata": {},
   "source": [
    "## metricas de evaluacion (sigmas) + funciones de utilidad\n"
   ]
  },
  {
   "cell_type": "code",
   "execution_count": 22,
   "metadata": {
    "ExecuteTime": {
     "end_time": "2018-08-24T08:34:42.166891Z",
     "start_time": "2018-08-24T08:34:42.157723Z"
    }
   },
   "outputs": [],
   "source": [
    "import higg_score\n",
    "from sklearn.metrics import roc_curve, auc, roc_auc_score\n",
    "\n",
    "def plot_roc(clf,Y_test,Y_test_prob):\n",
    "    fpr, tpr, thresholds = roc_curve(Y_test, Y_test_prob)\n",
    "    roc_auc = auc(fpr, tpr)\n",
    "    plt.plot(fpr, tpr, lw=1, alpha=0.3, label=str(clf.__class__.__name__))\n",
    "    plt.plot(np.linspace(0,1,100),np.linspace(0,1,100), lw=2, alpha=0.3, label='Suerte')\n",
    "    plt.legend(loc='lower right')\n",
    "    plt.xlim([0,1])\n",
    "    plt.ylim([0,1])\n",
    "    plt.tight_layout()\n",
    "    return\n",
    "\n",
    "def keras_graph(model):\n",
    "    from IPython.display import SVG\n",
    "    from keras.utils.vis_utils import model_to_dot\n",
    "    return SVG(model_to_dot(model).create(prog='dot', format='svg'))"
   ]
  },
  {
   "cell_type": "code",
   "execution_count": null,
   "metadata": {},
   "outputs": [],
   "source": [
    "import tensorflow as tf\n",
    "import tensorflow.keras as keras\n",
    "from tensorflow.keras import backend as K\n",
    "from tensorflow.keras.layers import Dense, Activation, Dropout\n",
    "from tensorflow.keras import Sequential"
   ]
  },
  {
   "cell_type": "markdown",
   "metadata": {},
   "source": [
    "## Datos de entrenamiento!\n",
    "\n",
    "Quieres saber mas? Visita"
   ]
  },
  {
   "cell_type": "code",
   "execution_count": 4,
   "metadata": {
    "ExecuteTime": {
     "end_time": "2018-08-24T08:17:49.192476Z",
     "start_time": "2018-08-24T08:17:48.223762Z"
    },
    "scrolled": true
   },
   "outputs": [
    {
     "name": "stdout",
     "output_type": "stream",
     "text": [
      "(250000, 33)\n"
     ]
    },
    {
     "data": {
      "text/html": [
       "<div>\n",
       "<style scoped>\n",
       "    .dataframe tbody tr th:only-of-type {\n",
       "        vertical-align: middle;\n",
       "    }\n",
       "\n",
       "    .dataframe tbody tr th {\n",
       "        vertical-align: top;\n",
       "    }\n",
       "\n",
       "    .dataframe thead th {\n",
       "        text-align: right;\n",
       "    }\n",
       "</style>\n",
       "<table border=\"1\" class=\"dataframe\">\n",
       "  <thead>\n",
       "    <tr style=\"text-align: right;\">\n",
       "      <th></th>\n",
       "      <th>EventId</th>\n",
       "      <th>DER_mass_MMC</th>\n",
       "      <th>DER_mass_transverse_met_lep</th>\n",
       "      <th>DER_mass_vis</th>\n",
       "      <th>DER_pt_h</th>\n",
       "      <th>DER_deltaeta_jet_jet</th>\n",
       "      <th>DER_mass_jet_jet</th>\n",
       "      <th>DER_prodeta_jet_jet</th>\n",
       "      <th>DER_deltar_tau_lep</th>\n",
       "      <th>DER_pt_tot</th>\n",
       "      <th>...</th>\n",
       "      <th>PRI_jet_num</th>\n",
       "      <th>PRI_jet_leading_pt</th>\n",
       "      <th>PRI_jet_leading_eta</th>\n",
       "      <th>PRI_jet_leading_phi</th>\n",
       "      <th>PRI_jet_subleading_pt</th>\n",
       "      <th>PRI_jet_subleading_eta</th>\n",
       "      <th>PRI_jet_subleading_phi</th>\n",
       "      <th>PRI_jet_all_pt</th>\n",
       "      <th>Weight</th>\n",
       "      <th>Label</th>\n",
       "    </tr>\n",
       "  </thead>\n",
       "  <tbody>\n",
       "    <tr>\n",
       "      <th>0</th>\n",
       "      <td>100000</td>\n",
       "      <td>138.47</td>\n",
       "      <td>51.655</td>\n",
       "      <td>97.827</td>\n",
       "      <td>27.98</td>\n",
       "      <td>0.91</td>\n",
       "      <td>124.711</td>\n",
       "      <td>2.666</td>\n",
       "      <td>3.064</td>\n",
       "      <td>41.928</td>\n",
       "      <td>...</td>\n",
       "      <td>2</td>\n",
       "      <td>67.435</td>\n",
       "      <td>2.15</td>\n",
       "      <td>0.444</td>\n",
       "      <td>46.062</td>\n",
       "      <td>1.24</td>\n",
       "      <td>-2.475</td>\n",
       "      <td>113.497</td>\n",
       "      <td>0.002653</td>\n",
       "      <td>s</td>\n",
       "    </tr>\n",
       "  </tbody>\n",
       "</table>\n",
       "<p>1 rows × 33 columns</p>\n",
       "</div>"
      ],
      "text/plain": [
       "   EventId  DER_mass_MMC  DER_mass_transverse_met_lep  DER_mass_vis  DER_pt_h  \\\n",
       "0   100000        138.47                       51.655        97.827     27.98   \n",
       "\n",
       "   DER_deltaeta_jet_jet  DER_mass_jet_jet  DER_prodeta_jet_jet  \\\n",
       "0                  0.91           124.711                2.666   \n",
       "\n",
       "   DER_deltar_tau_lep  DER_pt_tot  ...    PRI_jet_num  PRI_jet_leading_pt  \\\n",
       "0               3.064      41.928  ...              2              67.435   \n",
       "\n",
       "   PRI_jet_leading_eta  PRI_jet_leading_phi  PRI_jet_subleading_pt  \\\n",
       "0                 2.15                0.444                 46.062   \n",
       "\n",
       "   PRI_jet_subleading_eta  PRI_jet_subleading_phi  PRI_jet_all_pt    Weight  \\\n",
       "0                    1.24                  -2.475         113.497  0.002653   \n",
       "\n",
       "   Label  \n",
       "0      s  \n",
       "\n",
       "[1 rows x 33 columns]"
      ]
     },
     "execution_count": 4,
     "metadata": {},
     "output_type": "execute_result"
    }
   ],
   "source": [
    "df=pd.read_csv('../data/HiggsBoson.csv')\n",
    "print(df.columns)\n",
    "target_col = 'Label'\n",
    "df[target_col] = df[target_col].replace(to_replace=['s','b'],value=[1,0])\n",
    "df = df.drop('EventId',axis=1)\n",
    "print(df.shape)\n",
    "df.head(1)"
   ]
  },
  {
   "cell_type": "markdown",
   "metadata": {},
   "source": [
    "## preprocesamiento para X y Y"
   ]
  },
  {
   "cell_type": "code",
   "execution_count": 5,
   "metadata": {
    "ExecuteTime": {
     "end_time": "2018-08-24T08:17:49.327953Z",
     "start_time": "2018-08-24T08:17:49.193912Z"
    }
   },
   "outputs": [],
   "source": [
    "Y = df['Label'].replace(to_replace=['s','b'],value=[1,0]).values\n",
    "weights = df['Weight'].values\n",
    "X = df.drop(['EventId','Label','Weight'],axis=1).values"
   ]
  },
  {
   "cell_type": "code",
   "execution_count": 6,
   "metadata": {
    "ExecuteTime": {
     "end_time": "2018-08-24T08:17:49.531551Z",
     "start_time": "2018-08-24T08:17:49.381349Z"
    }
   },
   "outputs": [
    {
     "name": "stdout",
     "output_type": "stream",
     "text": [
      "(75000, 30) (75000,) (75000,)\n",
      "(175000, 30) (175000,) (175000,)\n"
     ]
    },
    {
     "name": "stderr",
     "output_type": "stream",
     "text": [
      "/home/beangoben/anaconda3/lib/python3.6/site-packages/sklearn/model_selection/_split.py:2026: FutureWarning: From version 0.21, test_size will always complement train_size unless both are specified.\n",
      "  FutureWarning)\n"
     ]
    }
   ],
   "source": [
    "from sklearn.model_selection import train_test_split\n",
    "X_train,X_test,Y_train,Y_test,w_train,w_test = train_test_split(X,Y,weights,train_size=0.3)\n",
    "print(X_train.shape,Y_train.shape,w_train.shape)\n",
    "print(X_test.shape,Y_test.shape,w_test.shape)"
   ]
  },
  {
   "cell_type": "markdown",
   "metadata": {},
   "source": [
    "## Red sencillita"
   ]
  },
  {
   "cell_type": "code",
   "execution_count": 10,
   "metadata": {
    "ExecuteTime": {
     "end_time": "2018-08-24T08:18:55.181558Z",
     "start_time": "2018-08-24T08:18:44.314653Z"
    }
   },
   "outputs": [
    {
     "name": "stdout",
     "output_type": "stream",
     "text": [
      "_________________________________________________________________\n",
      "Layer (type)                 Output Shape              Param #   \n",
      "=================================================================\n",
      "dense_1 (Dense)              (None, 10)                310       \n",
      "_________________________________________________________________\n",
      "dense_2 (Dense)              (None, 1)                 11        \n",
      "=================================================================\n",
      "Total params: 321\n",
      "Trainable params: 321\n",
      "Non-trainable params: 0\n",
      "_________________________________________________________________\n",
      "None\n",
      "Epoch 1/5\n",
      "75000/75000 [==============================] - 2s 29us/step - loss: 0.5296 - acc: 0.7327\n",
      "Epoch 2/5\n",
      "75000/75000 [==============================] - 2s 28us/step - loss: 0.4958 - acc: 0.7628\n",
      "Epoch 3/5\n",
      "75000/75000 [==============================] - 2s 27us/step - loss: 0.4875 - acc: 0.7662\n",
      "Epoch 4/5\n",
      "75000/75000 [==============================] - 2s 27us/step - loss: 0.4825 - acc: 0.7689\n",
      "Epoch 5/5\n",
      "75000/75000 [==============================] - 2s 29us/step - loss: 0.4774 - acc: 0.7729\n"
     ]
    },
    {
     "data": {
      "text/plain": [
       "<keras.callbacks.History at 0x7f07e85c3e80>"
      ]
     },
     "execution_count": 10,
     "metadata": {},
     "output_type": "execute_result"
    }
   ],
   "source": [
    "K.clear_session()\n",
    "\n",
    "model = keras.Sequential()\n",
    "model.add(Dense(units=10, input_dim=X_train.shape[-1], kernel_initializer='normal', activation='relu'))\n",
    "model.add(Dense(1, kernel_initializer='normal', activation='sigmoid'))\n",
    "model.compile(loss='binary_crossentropy', optimizer=\"adam\", metrics=['accuracy'])\n",
    "print(model.summary())\n",
    "model.fit(X_train, Y_train, epochs=5, batch_size=32)"
   ]
  },
  {
   "cell_type": "code",
   "execution_count": 39,
   "metadata": {
    "ExecuteTime": {
     "end_time": "2018-08-24T08:04:10.725399Z",
     "start_time": "2018-08-24T08:04:04.945904Z"
    }
   },
   "outputs": [
    {
     "name": "stdout",
     "output_type": "stream",
     "text": [
      "--- Resultados --\n",
      "- AUC train: 0.789 \n",
      "- AUC test : 0.790 \n",
      "- AMS train: 2.036 sigma\n",
      "- AMS test : 2.734 sigma\n"
     ]
    },
    {
     "data": {
      "text/plain": [
       "(2.036349223971371, 2.7336171094233506)"
      ]
     },
     "execution_count": 39,
     "metadata": {},
     "output_type": "execute_result"
    }
   ],
   "source": [
    "pcut=0.5\n",
    "Y_train_pred = model.predict(X_train).flatten() > pcut\n",
    "Y_test_pred = model.predict(X_test).flatten() > pcut\n",
    "Y_train_prob= model.predict_proba(X_train).flatten()\n",
    "Y_test_prob = model.predict_proba(X_test).flatten()\n",
    "eval_model(Y_train,Y_train_pred,w_train,Y_test,Y_test_pred,w_test)"
   ]
  },
  {
   "cell_type": "code",
   "execution_count": 14,
   "metadata": {
    "ExecuteTime": {
     "end_time": "2018-08-24T08:24:25.433970Z",
     "start_time": "2018-08-24T08:24:25.327676Z"
    }
   },
   "outputs": [
    {
     "data": {
      "image/svg+xml": [
       "<svg height=\"337pt\" viewBox=\"0.00 0.00 182.00 337.00\" width=\"182pt\" xmlns=\"http://www.w3.org/2000/svg\" xmlns:xlink=\"http://www.w3.org/1999/xlink\">\n",
       "<g class=\"graph\" id=\"graph0\" transform=\"scale(1 1) rotate(0) translate(4 333)\">\n",
       "<title>G</title>\n",
       "<polygon fill=\"#ffffff\" points=\"-4,4 -4,-333 178,-333 178,4 -4,4\" stroke=\"transparent\"/>\n",
       "<!-- 139671161658224 -->\n",
       "<g class=\"node\" id=\"node1\">\n",
       "<title>139671161658224</title>\n",
       "<polygon fill=\"none\" points=\"27.5,-292.5 27.5,-328.5 152.5,-328.5 152.5,-292.5 27.5,-292.5\" stroke=\"#000000\"/>\n",
       "<text fill=\"#000000\" font-family=\"Times,serif\" font-size=\"14.00\" text-anchor=\"middle\" x=\"90\" y=\"-306.8\">input_1: InputLayer</text>\n",
       "</g>\n",
       "<!-- 139671161657104 -->\n",
       "<g class=\"node\" id=\"node2\">\n",
       "<title>139671161657104</title>\n",
       "<polygon fill=\"none\" points=\"39,-219.5 39,-255.5 141,-255.5 141,-219.5 39,-219.5\" stroke=\"#000000\"/>\n",
       "<text fill=\"#000000\" font-family=\"Times,serif\" font-size=\"14.00\" text-anchor=\"middle\" x=\"90\" y=\"-233.8\">dense_1: Dense</text>\n",
       "</g>\n",
       "<!-- 139671161658224&#45;&gt;139671161657104 -->\n",
       "<g class=\"edge\" id=\"edge1\">\n",
       "<title>139671161658224-&gt;139671161657104</title>\n",
       "<path d=\"M90,-292.4551C90,-284.3828 90,-274.6764 90,-265.6817\" fill=\"none\" stroke=\"#000000\"/>\n",
       "<polygon fill=\"#000000\" points=\"93.5001,-265.5903 90,-255.5904 86.5001,-265.5904 93.5001,-265.5903\" stroke=\"#000000\"/>\n",
       "</g>\n",
       "<!-- 139671161657496 -->\n",
       "<g class=\"node\" id=\"node3\">\n",
       "<title>139671161657496</title>\n",
       "<polygon fill=\"none\" points=\"0,-146.5 0,-182.5 102,-182.5 102,-146.5 0,-146.5\" stroke=\"#000000\"/>\n",
       "<text fill=\"#000000\" font-family=\"Times,serif\" font-size=\"14.00\" text-anchor=\"middle\" x=\"51\" y=\"-160.8\">dense_2: Dense</text>\n",
       "</g>\n",
       "<!-- 139671161657104&#45;&gt;139671161657496 -->\n",
       "<g class=\"edge\" id=\"edge2\">\n",
       "<title>139671161657104-&gt;139671161657496</title>\n",
       "<path d=\"M80.3595,-219.4551C75.8595,-211.0319 70.4088,-200.8292 65.4315,-191.5128\" fill=\"none\" stroke=\"#000000\"/>\n",
       "<polygon fill=\"#000000\" points=\"68.464,-189.7613 60.6647,-182.5904 62.2898,-193.0598 68.464,-189.7613\" stroke=\"#000000\"/>\n",
       "</g>\n",
       "<!-- 139671161657664 -->\n",
       "<g class=\"node\" id=\"node4\">\n",
       "<title>139671161657664</title>\n",
       "<polygon fill=\"none\" points=\"6,-73.5 6,-109.5 174,-109.5 174,-73.5 6,-73.5\" stroke=\"#000000\"/>\n",
       "<text fill=\"#000000\" font-family=\"Times,serif\" font-size=\"14.00\" text-anchor=\"middle\" x=\"90\" y=\"-87.8\">concatenate_1: Concatenate</text>\n",
       "</g>\n",
       "<!-- 139671161657104&#45;&gt;139671161657664 -->\n",
       "<g class=\"edge\" id=\"edge3\">\n",
       "<title>139671161657104-&gt;139671161657664</title>\n",
       "<path d=\"M98.9387,-219.3287C103.54,-208.9597 108.6637,-195.5609 111,-183 114.007,-166.8328 114.007,-162.1672 111,-146 109.3208,-136.9719 106.2016,-127.5109 102.8714,-119.0531\" fill=\"none\" stroke=\"#000000\"/>\n",
       "<polygon fill=\"#000000\" points=\"106.0325,-117.5407 98.9387,-109.6713 99.5768,-120.2469 106.0325,-117.5407\" stroke=\"#000000\"/>\n",
       "</g>\n",
       "<!-- 139671161657496&#45;&gt;139671161657664 -->\n",
       "<g class=\"edge\" id=\"edge4\">\n",
       "<title>139671161657496-&gt;139671161657664</title>\n",
       "<path d=\"M60.6405,-146.4551C65.1405,-138.0319 70.5912,-127.8292 75.5685,-118.5128\" fill=\"none\" stroke=\"#000000\"/>\n",
       "<polygon fill=\"#000000\" points=\"78.7102,-120.0598 80.3353,-109.5904 72.536,-116.7613 78.7102,-120.0598\" stroke=\"#000000\"/>\n",
       "</g>\n",
       "<!-- 139671161541912 -->\n",
       "<g class=\"node\" id=\"node5\">\n",
       "<title>139671161541912</title>\n",
       "<polygon fill=\"none\" points=\"39,-.5 39,-36.5 141,-36.5 141,-.5 39,-.5\" stroke=\"#000000\"/>\n",
       "<text fill=\"#000000\" font-family=\"Times,serif\" font-size=\"14.00\" text-anchor=\"middle\" x=\"90\" y=\"-14.8\">dense_3: Dense</text>\n",
       "</g>\n",
       "<!-- 139671161657664&#45;&gt;139671161541912 -->\n",
       "<g class=\"edge\" id=\"edge5\">\n",
       "<title>139671161657664-&gt;139671161541912</title>\n",
       "<path d=\"M90,-73.4551C90,-65.3828 90,-55.6764 90,-46.6817\" fill=\"none\" stroke=\"#000000\"/>\n",
       "<polygon fill=\"#000000\" points=\"93.5001,-46.5903 90,-36.5904 86.5001,-46.5904 93.5001,-46.5903\" stroke=\"#000000\"/>\n",
       "</g>\n",
       "</g>\n",
       "</svg>"
      ],
      "text/plain": [
       "<IPython.core.display.SVG object>"
      ]
     },
     "execution_count": 14,
     "metadata": {},
     "output_type": "execute_result"
    }
   ],
   "source": [
    "from IPython.display import SVG\n",
    "from tensorflow.keras.utils.vis_utils import model_to_dot\n",
    "SVG(model_to_dot(model).create(prog='dot', format='svg'))"
   ]
  },
  {
   "cell_type": "markdown",
   "metadata": {},
   "source": [
    "## Trucos: Regularizadores de redes\n",
    "\n",
    "**L2** pesos mas \"equitativos\"\n",
    "**L1** pesos mas \"sparse\", muchos 0's."
   ]
  },
  {
   "cell_type": "code",
   "execution_count": 41,
   "metadata": {
    "ExecuteTime": {
     "end_time": "2018-08-24T08:59:09.423193Z",
     "start_time": "2018-08-24T08:58:55.107420Z"
    }
   },
   "outputs": [
    {
     "name": "stdout",
     "output_type": "stream",
     "text": [
      "_________________________________________________________________\n",
      "Layer (type)                 Output Shape              Param #   \n",
      "=================================================================\n",
      "dense_1 (Dense)              (None, 10)                310       \n",
      "_________________________________________________________________\n",
      "dense_2 (Dense)              (None, 1)                 11        \n",
      "=================================================================\n",
      "Total params: 321\n",
      "Trainable params: 321\n",
      "Non-trainable params: 0\n",
      "_________________________________________________________________\n",
      "None\n",
      "Epoch 1/5\n",
      "75000/75000 [==============================] - 3s 41us/step - loss: 14.9795 - acc: 0.6614\n",
      "Epoch 2/5\n",
      "75000/75000 [==============================] - 3s 37us/step - loss: 0.7593 - acc: 0.6587\n",
      "Epoch 3/5\n",
      "75000/75000 [==============================] - 3s 35us/step - loss: 0.7260 - acc: 0.6586\n",
      "Epoch 4/5\n",
      "75000/75000 [==============================] - 3s 36us/step - loss: 0.6907 - acc: 0.6586\n",
      "Epoch 5/5\n",
      "75000/75000 [==============================] - 3s 36us/step - loss: 0.6659 - acc: 0.6586\n"
     ]
    },
    {
     "data": {
      "text/plain": [
       "<keras.callbacks.History at 0x7f0788f0d630>"
      ]
     },
     "execution_count": 41,
     "metadata": {},
     "output_type": "execute_result"
    }
   ],
   "source": [
    "from tensorflow.keras import regularizers\n",
    "\n",
    "K.clear_session()\n",
    "\n",
    "model = Sequential()\n",
    "model.add(Dense(units=10, input_dim=X_train.shape[-1],\n",
    "                kernel_regularizer=regularizers.l2(0.01),\n",
    "                activity_regularizer=regularizers.l1(0.01),\n",
    "                activation='relu'))\n",
    "model.add(Dense(1, kernel_initializer='normal', activation='sigmoid'))\n",
    "model.compile(loss='binary_crossentropy', optimizer=\"adam\", metrics=['accuracy'])\n",
    "print(model.summary())\n",
    "model.fit(X_train, Y_train, epochs=5, batch_size=32)"
   ]
  },
  {
   "cell_type": "markdown",
   "metadata": {},
   "source": [
    "## Actividad: Crea una red profunda\n",
    "\n",
    "Sugerencias:\n",
    "* Agrega mas capas\n",
    "* Hay alguna relacion entre las dimensiones de las capas?\n",
    "* Como calculas el numero de parametros a entrenar?\n",
    "* Cual es el efecto del learning rate?"
   ]
  },
  {
   "cell_type": "code",
   "execution_count": null,
   "metadata": {},
   "outputs": [],
   "source": []
  },
  {
   "cell_type": "markdown",
   "metadata": {},
   "source": [
    "## trucos: Dropout\n",
    "\n",
    "Matar conexiones de manera aleatoria puede mejorar las conexiones.\n",
    "\n",
    "Mas info en https://keras.io/layers/core/"
   ]
  },
  {
   "cell_type": "code",
   "execution_count": 37,
   "metadata": {
    "ExecuteTime": {
     "end_time": "2018-08-24T07:55:16.004669Z",
     "start_time": "2018-08-24T07:55:07.388156Z"
    }
   },
   "outputs": [
    {
     "name": "stdout",
     "output_type": "stream",
     "text": [
      "_________________________________________________________________\n",
      "Layer (type)                 Output Shape              Param #   \n",
      "=================================================================\n",
      "dense_1 (Dense)              (None, 10)                310       \n",
      "_________________________________________________________________\n",
      "dropout_1 (Dropout)          (None, 10)                0         \n",
      "_________________________________________________________________\n",
      "dense_2 (Dense)              (None, 1)                 11        \n",
      "=================================================================\n",
      "Total params: 321\n",
      "Trainable params: 321\n",
      "Non-trainable params: 0\n",
      "_________________________________________________________________\n",
      "None\n",
      "Epoch 1/50\n",
      "75000/75000 [==============================] - 2s 33us/step - loss: 0.5672 - acc: 0.6971\n",
      "Epoch 2/50\n",
      "75000/75000 [==============================] - 2s 26us/step - loss: 0.5383 - acc: 0.7062\n",
      "Epoch 3/50\n",
      "75000/75000 [==============================] - 2s 26us/step - loss: 0.5341 - acc: 0.7075\n",
      "Epoch 4/50\n",
      "64480/75000 [========================>.....] - ETA: 0s - loss: 0.5332 - acc: 0.7066"
     ]
    },
    {
     "ename": "KeyboardInterrupt",
     "evalue": "",
     "output_type": "error",
     "traceback": [
      "\u001b[0;31m---------------------------------------------------------------------------\u001b[0m",
      "\u001b[0;31mKeyboardInterrupt\u001b[0m                         Traceback (most recent call last)",
      "\u001b[0;32m<ipython-input-37-35cfb340d075>\u001b[0m in \u001b[0;36m<module>\u001b[0;34m()\u001b[0m\n\u001b[1;32m      9\u001b[0m \u001b[0mmodel\u001b[0m\u001b[0;34m.\u001b[0m\u001b[0mcompile\u001b[0m\u001b[0;34m(\u001b[0m\u001b[0mloss\u001b[0m\u001b[0;34m=\u001b[0m\u001b[0;34m'binary_crossentropy'\u001b[0m\u001b[0;34m,\u001b[0m \u001b[0moptimizer\u001b[0m\u001b[0;34m=\u001b[0m\u001b[0;34m\"adam\"\u001b[0m\u001b[0;34m,\u001b[0m \u001b[0mmetrics\u001b[0m\u001b[0;34m=\u001b[0m\u001b[0;34m[\u001b[0m\u001b[0;34m'accuracy'\u001b[0m\u001b[0;34m]\u001b[0m\u001b[0;34m)\u001b[0m\u001b[0;34m\u001b[0m\u001b[0m\n\u001b[1;32m     10\u001b[0m \u001b[0mprint\u001b[0m\u001b[0;34m(\u001b[0m\u001b[0mmodel\u001b[0m\u001b[0;34m.\u001b[0m\u001b[0msummary\u001b[0m\u001b[0;34m(\u001b[0m\u001b[0;34m)\u001b[0m\u001b[0;34m)\u001b[0m\u001b[0;34m\u001b[0m\u001b[0m\n\u001b[0;32m---> 11\u001b[0;31m \u001b[0mmodel\u001b[0m\u001b[0;34m.\u001b[0m\u001b[0mfit\u001b[0m\u001b[0;34m(\u001b[0m\u001b[0mX_train\u001b[0m\u001b[0;34m,\u001b[0m \u001b[0mY_train\u001b[0m\u001b[0;34m,\u001b[0m \u001b[0mepochs\u001b[0m\u001b[0;34m=\u001b[0m\u001b[0;36m50\u001b[0m\u001b[0;34m,\u001b[0m \u001b[0mbatch_size\u001b[0m\u001b[0;34m=\u001b[0m\u001b[0;36m32\u001b[0m\u001b[0;34m)\u001b[0m\u001b[0;34m\u001b[0m\u001b[0m\n\u001b[0m",
      "\u001b[0;32m~/anaconda3/lib/python3.6/site-packages/keras/engine/training.py\u001b[0m in \u001b[0;36mfit\u001b[0;34m(self, x, y, batch_size, epochs, verbose, callbacks, validation_split, validation_data, shuffle, class_weight, sample_weight, initial_epoch, steps_per_epoch, validation_steps, **kwargs)\u001b[0m\n\u001b[1;32m   1040\u001b[0m                                         \u001b[0minitial_epoch\u001b[0m\u001b[0;34m=\u001b[0m\u001b[0minitial_epoch\u001b[0m\u001b[0;34m,\u001b[0m\u001b[0;34m\u001b[0m\u001b[0m\n\u001b[1;32m   1041\u001b[0m                                         \u001b[0msteps_per_epoch\u001b[0m\u001b[0;34m=\u001b[0m\u001b[0msteps_per_epoch\u001b[0m\u001b[0;34m,\u001b[0m\u001b[0;34m\u001b[0m\u001b[0m\n\u001b[0;32m-> 1042\u001b[0;31m                                         validation_steps=validation_steps)\n\u001b[0m\u001b[1;32m   1043\u001b[0m \u001b[0;34m\u001b[0m\u001b[0m\n\u001b[1;32m   1044\u001b[0m     def evaluate(self, x=None, y=None,\n",
      "\u001b[0;32m~/anaconda3/lib/python3.6/site-packages/keras/engine/training_arrays.py\u001b[0m in \u001b[0;36mfit_loop\u001b[0;34m(model, f, ins, out_labels, batch_size, epochs, verbose, callbacks, val_f, val_ins, shuffle, callback_metrics, initial_epoch, steps_per_epoch, validation_steps)\u001b[0m\n\u001b[1;32m    193\u001b[0m                 \u001b[0mbatch_logs\u001b[0m\u001b[0;34m[\u001b[0m\u001b[0;34m'batch'\u001b[0m\u001b[0;34m]\u001b[0m \u001b[0;34m=\u001b[0m \u001b[0mbatch_index\u001b[0m\u001b[0;34m\u001b[0m\u001b[0m\n\u001b[1;32m    194\u001b[0m                 \u001b[0mbatch_logs\u001b[0m\u001b[0;34m[\u001b[0m\u001b[0;34m'size'\u001b[0m\u001b[0;34m]\u001b[0m \u001b[0;34m=\u001b[0m \u001b[0mlen\u001b[0m\u001b[0;34m(\u001b[0m\u001b[0mbatch_ids\u001b[0m\u001b[0;34m)\u001b[0m\u001b[0;34m\u001b[0m\u001b[0m\n\u001b[0;32m--> 195\u001b[0;31m                 \u001b[0mcallbacks\u001b[0m\u001b[0;34m.\u001b[0m\u001b[0mon_batch_begin\u001b[0m\u001b[0;34m(\u001b[0m\u001b[0mbatch_index\u001b[0m\u001b[0;34m,\u001b[0m \u001b[0mbatch_logs\u001b[0m\u001b[0;34m)\u001b[0m\u001b[0;34m\u001b[0m\u001b[0m\n\u001b[0m\u001b[1;32m    196\u001b[0m                 \u001b[0;32mfor\u001b[0m \u001b[0mi\u001b[0m \u001b[0;32min\u001b[0m \u001b[0mindices_for_conversion_to_dense\u001b[0m\u001b[0;34m:\u001b[0m\u001b[0;34m\u001b[0m\u001b[0m\n\u001b[1;32m    197\u001b[0m                     \u001b[0mins_batch\u001b[0m\u001b[0;34m[\u001b[0m\u001b[0mi\u001b[0m\u001b[0;34m]\u001b[0m \u001b[0;34m=\u001b[0m \u001b[0mins_batch\u001b[0m\u001b[0;34m[\u001b[0m\u001b[0mi\u001b[0m\u001b[0;34m]\u001b[0m\u001b[0;34m.\u001b[0m\u001b[0mtoarray\u001b[0m\u001b[0;34m(\u001b[0m\u001b[0;34m)\u001b[0m\u001b[0;34m\u001b[0m\u001b[0m\n",
      "\u001b[0;32m~/anaconda3/lib/python3.6/site-packages/keras/callbacks.py\u001b[0m in \u001b[0;36mon_batch_begin\u001b[0;34m(self, batch, logs)\u001b[0m\n\u001b[1;32m     89\u001b[0m             \u001b[0mcallback\u001b[0m\u001b[0;34m.\u001b[0m\u001b[0mon_batch_begin\u001b[0m\u001b[0;34m(\u001b[0m\u001b[0mbatch\u001b[0m\u001b[0;34m,\u001b[0m \u001b[0mlogs\u001b[0m\u001b[0;34m)\u001b[0m\u001b[0;34m\u001b[0m\u001b[0m\n\u001b[1;32m     90\u001b[0m         \u001b[0mself\u001b[0m\u001b[0;34m.\u001b[0m\u001b[0m_delta_ts_batch_begin\u001b[0m\u001b[0;34m.\u001b[0m\u001b[0mappend\u001b[0m\u001b[0;34m(\u001b[0m\u001b[0mtime\u001b[0m\u001b[0;34m.\u001b[0m\u001b[0mtime\u001b[0m\u001b[0;34m(\u001b[0m\u001b[0;34m)\u001b[0m \u001b[0;34m-\u001b[0m \u001b[0mt_before_callbacks\u001b[0m\u001b[0;34m)\u001b[0m\u001b[0;34m\u001b[0m\u001b[0m\n\u001b[0;32m---> 91\u001b[0;31m         \u001b[0mdelta_t_median\u001b[0m \u001b[0;34m=\u001b[0m \u001b[0mnp\u001b[0m\u001b[0;34m.\u001b[0m\u001b[0mmedian\u001b[0m\u001b[0;34m(\u001b[0m\u001b[0mself\u001b[0m\u001b[0;34m.\u001b[0m\u001b[0m_delta_ts_batch_begin\u001b[0m\u001b[0;34m)\u001b[0m\u001b[0;34m\u001b[0m\u001b[0m\n\u001b[0m\u001b[1;32m     92\u001b[0m         if (self._delta_t_batch > 0. and\n\u001b[1;32m     93\u001b[0m            \u001b[0mdelta_t_median\u001b[0m \u001b[0;34m>\u001b[0m \u001b[0;36m0.95\u001b[0m \u001b[0;34m*\u001b[0m \u001b[0mself\u001b[0m\u001b[0;34m.\u001b[0m\u001b[0m_delta_t_batch\u001b[0m \u001b[0;32mand\u001b[0m\u001b[0;34m\u001b[0m\u001b[0m\n",
      "\u001b[0;32m~/anaconda3/lib/python3.6/site-packages/numpy/lib/function_base.py\u001b[0m in \u001b[0;36mmedian\u001b[0;34m(a, axis, out, overwrite_input, keepdims)\u001b[0m\n\u001b[1;32m   4117\u001b[0m     \"\"\"\n\u001b[1;32m   4118\u001b[0m     r, k = _ureduce(a, func=_median, axis=axis, out=out,\n\u001b[0;32m-> 4119\u001b[0;31m                     overwrite_input=overwrite_input)\n\u001b[0m\u001b[1;32m   4120\u001b[0m     \u001b[0;32mif\u001b[0m \u001b[0mkeepdims\u001b[0m\u001b[0;34m:\u001b[0m\u001b[0;34m\u001b[0m\u001b[0m\n\u001b[1;32m   4121\u001b[0m         \u001b[0;32mreturn\u001b[0m \u001b[0mr\u001b[0m\u001b[0;34m.\u001b[0m\u001b[0mreshape\u001b[0m\u001b[0;34m(\u001b[0m\u001b[0mk\u001b[0m\u001b[0;34m)\u001b[0m\u001b[0;34m\u001b[0m\u001b[0m\n",
      "\u001b[0;32m~/anaconda3/lib/python3.6/site-packages/numpy/lib/function_base.py\u001b[0m in \u001b[0;36m_ureduce\u001b[0;34m(a, func, **kwargs)\u001b[0m\n\u001b[1;32m   4031\u001b[0m         \u001b[0mkeepdim\u001b[0m \u001b[0;34m=\u001b[0m \u001b[0;34m(\u001b[0m\u001b[0;36m1\u001b[0m\u001b[0;34m,\u001b[0m\u001b[0;34m)\u001b[0m \u001b[0;34m*\u001b[0m \u001b[0ma\u001b[0m\u001b[0;34m.\u001b[0m\u001b[0mndim\u001b[0m\u001b[0;34m\u001b[0m\u001b[0m\n\u001b[1;32m   4032\u001b[0m \u001b[0;34m\u001b[0m\u001b[0m\n\u001b[0;32m-> 4033\u001b[0;31m     \u001b[0mr\u001b[0m \u001b[0;34m=\u001b[0m \u001b[0mfunc\u001b[0m\u001b[0;34m(\u001b[0m\u001b[0ma\u001b[0m\u001b[0;34m,\u001b[0m \u001b[0;34m**\u001b[0m\u001b[0mkwargs\u001b[0m\u001b[0;34m)\u001b[0m\u001b[0;34m\u001b[0m\u001b[0m\n\u001b[0m\u001b[1;32m   4034\u001b[0m     \u001b[0;32mreturn\u001b[0m \u001b[0mr\u001b[0m\u001b[0;34m,\u001b[0m \u001b[0mkeepdim\u001b[0m\u001b[0;34m\u001b[0m\u001b[0m\n\u001b[1;32m   4035\u001b[0m \u001b[0;34m\u001b[0m\u001b[0m\n",
      "\u001b[0;32m~/anaconda3/lib/python3.6/site-packages/numpy/lib/function_base.py\u001b[0m in \u001b[0;36m_median\u001b[0;34m(a, axis, out, overwrite_input)\u001b[0m\n\u001b[1;32m   4169\u001b[0m     \u001b[0;32mif\u001b[0m \u001b[0mnp\u001b[0m\u001b[0;34m.\u001b[0m\u001b[0missubdtype\u001b[0m\u001b[0;34m(\u001b[0m\u001b[0ma\u001b[0m\u001b[0;34m.\u001b[0m\u001b[0mdtype\u001b[0m\u001b[0;34m,\u001b[0m \u001b[0mnp\u001b[0m\u001b[0;34m.\u001b[0m\u001b[0minexact\u001b[0m\u001b[0;34m)\u001b[0m \u001b[0;32mand\u001b[0m \u001b[0msz\u001b[0m \u001b[0;34m>\u001b[0m \u001b[0;36m0\u001b[0m\u001b[0;34m:\u001b[0m\u001b[0;34m\u001b[0m\u001b[0m\n\u001b[1;32m   4170\u001b[0m         \u001b[0;31m# warn and return nans like mean would\u001b[0m\u001b[0;34m\u001b[0m\u001b[0;34m\u001b[0m\u001b[0m\n\u001b[0;32m-> 4171\u001b[0;31m         \u001b[0mrout\u001b[0m \u001b[0;34m=\u001b[0m \u001b[0mmean\u001b[0m\u001b[0;34m(\u001b[0m\u001b[0mpart\u001b[0m\u001b[0;34m[\u001b[0m\u001b[0mindexer\u001b[0m\u001b[0;34m]\u001b[0m\u001b[0;34m,\u001b[0m \u001b[0maxis\u001b[0m\u001b[0;34m=\u001b[0m\u001b[0maxis\u001b[0m\u001b[0;34m,\u001b[0m \u001b[0mout\u001b[0m\u001b[0;34m=\u001b[0m\u001b[0mout\u001b[0m\u001b[0;34m)\u001b[0m\u001b[0;34m\u001b[0m\u001b[0m\n\u001b[0m\u001b[1;32m   4172\u001b[0m         \u001b[0;32mreturn\u001b[0m \u001b[0mnp\u001b[0m\u001b[0;34m.\u001b[0m\u001b[0mlib\u001b[0m\u001b[0;34m.\u001b[0m\u001b[0mutils\u001b[0m\u001b[0;34m.\u001b[0m\u001b[0m_median_nancheck\u001b[0m\u001b[0;34m(\u001b[0m\u001b[0mpart\u001b[0m\u001b[0;34m,\u001b[0m \u001b[0mrout\u001b[0m\u001b[0;34m,\u001b[0m \u001b[0maxis\u001b[0m\u001b[0;34m,\u001b[0m \u001b[0mout\u001b[0m\u001b[0;34m)\u001b[0m\u001b[0;34m\u001b[0m\u001b[0m\n\u001b[1;32m   4173\u001b[0m     \u001b[0;32melse\u001b[0m\u001b[0;34m:\u001b[0m\u001b[0;34m\u001b[0m\u001b[0m\n",
      "\u001b[0;32m~/anaconda3/lib/python3.6/site-packages/numpy/core/fromnumeric.py\u001b[0m in \u001b[0;36mmean\u001b[0;34m(a, axis, dtype, out, keepdims)\u001b[0m\n\u001b[1;32m   2955\u001b[0m \u001b[0;34m\u001b[0m\u001b[0m\n\u001b[1;32m   2956\u001b[0m     return _methods._mean(a, axis=axis, dtype=dtype,\n\u001b[0;32m-> 2957\u001b[0;31m                           out=out, **kwargs)\n\u001b[0m\u001b[1;32m   2958\u001b[0m \u001b[0;34m\u001b[0m\u001b[0m\n\u001b[1;32m   2959\u001b[0m \u001b[0;34m\u001b[0m\u001b[0m\n",
      "\u001b[0;32m~/anaconda3/lib/python3.6/site-packages/numpy/core/_methods.py\u001b[0m in \u001b[0;36m_mean\u001b[0;34m(a, axis, dtype, out, keepdims)\u001b[0m\n\u001b[1;32m     68\u001b[0m             \u001b[0mis_float16_result\u001b[0m \u001b[0;34m=\u001b[0m \u001b[0;32mTrue\u001b[0m\u001b[0;34m\u001b[0m\u001b[0m\n\u001b[1;32m     69\u001b[0m \u001b[0;34m\u001b[0m\u001b[0m\n\u001b[0;32m---> 70\u001b[0;31m     \u001b[0mret\u001b[0m \u001b[0;34m=\u001b[0m \u001b[0mumr_sum\u001b[0m\u001b[0;34m(\u001b[0m\u001b[0marr\u001b[0m\u001b[0;34m,\u001b[0m \u001b[0maxis\u001b[0m\u001b[0;34m,\u001b[0m \u001b[0mdtype\u001b[0m\u001b[0;34m,\u001b[0m \u001b[0mout\u001b[0m\u001b[0;34m,\u001b[0m \u001b[0mkeepdims\u001b[0m\u001b[0;34m)\u001b[0m\u001b[0;34m\u001b[0m\u001b[0m\n\u001b[0m\u001b[1;32m     71\u001b[0m     \u001b[0;32mif\u001b[0m \u001b[0misinstance\u001b[0m\u001b[0;34m(\u001b[0m\u001b[0mret\u001b[0m\u001b[0;34m,\u001b[0m \u001b[0mmu\u001b[0m\u001b[0;34m.\u001b[0m\u001b[0mndarray\u001b[0m\u001b[0;34m)\u001b[0m\u001b[0;34m:\u001b[0m\u001b[0;34m\u001b[0m\u001b[0m\n\u001b[1;32m     72\u001b[0m         ret = um.true_divide(\n",
      "\u001b[0;31mKeyboardInterrupt\u001b[0m: "
     ]
    }
   ],
   "source": [
    "from tensorflow.keras.layers import Dense, Activation, Dropout\n",
    "\n",
    "K.clear_session()\n",
    "\n",
    "model = Sequential()\n",
    "model.add(Dense(units=10, input_dim=X_train.shape[-1], kernel_initializer='normal', activation='relu'))\n",
    "model.add(Dropout(0.2)) # 20% de las conexiones se apagan\n",
    "model.add(Dense(1, kernel_initializer='normal', activation='sigmoid'))\n",
    "model.compile(loss='binary_crossentropy', optimizer=\"adam\", metrics=['accuracy'])\n",
    "print(model.summary())\n",
    "model.fit(X_train, Y_train, epochs=5, batch_size=32)"
   ]
  },
  {
   "cell_type": "markdown",
   "metadata": {},
   "source": [
    "## Trucos: funciones de Activacion!\n",
    "\n",
    "Muy buena motivacion: https://colah.github.io/posts/2014-03-NN-Manifolds-Topology/\n",
    "\n",
    "\n",
    "![](https://github.com/beangoben/chemistry_ml_colab/blob/master/images/activations.png?raw=true)"
   ]
  },
  {
   "cell_type": "code",
   "execution_count": 38,
   "metadata": {
    "ExecuteTime": {
     "end_time": "2018-08-24T08:03:56.679496Z",
     "start_time": "2018-08-24T08:01:25.474946Z"
    }
   },
   "outputs": [
    {
     "name": "stdout",
     "output_type": "stream",
     "text": [
      "_________________________________________________________________\n",
      "Layer (type)                 Output Shape              Param #   \n",
      "=================================================================\n",
      "dense_1 (Dense)              (None, 100)               3100      \n",
      "_________________________________________________________________\n",
      "batch_normalization_1 (Batch (None, 100)               400       \n",
      "_________________________________________________________________\n",
      "activation_1 (Activation)    (None, 100)               0         \n",
      "_________________________________________________________________\n",
      "dropout_1 (Dropout)          (None, 100)               0         \n",
      "_________________________________________________________________\n",
      "dense_2 (Dense)              (None, 1)                 101       \n",
      "=================================================================\n",
      "Total params: 3,601\n",
      "Trainable params: 3,401\n",
      "Non-trainable params: 200\n",
      "_________________________________________________________________\n",
      "None\n",
      "Epoch 1/50\n",
      "75000/75000 [==============================] - 4s 48us/step - loss: 0.5400 - acc: 0.7211\n",
      "Epoch 2/50\n",
      "75000/75000 [==============================] - 3s 44us/step - loss: 0.5193 - acc: 0.7394\n",
      "Epoch 3/50\n",
      "75000/75000 [==============================] - 3s 42us/step - loss: 0.5065 - acc: 0.7491\n",
      "Epoch 4/50\n",
      "75000/75000 [==============================] - 3s 40us/step - loss: 0.4989 - acc: 0.7561\n",
      "Epoch 5/50\n",
      "75000/75000 [==============================] - 3s 42us/step - loss: 0.4912 - acc: 0.7612\n",
      "Epoch 6/50\n",
      "75000/75000 [==============================] - 3s 40us/step - loss: 0.4855 - acc: 0.7646\n",
      "Epoch 7/50\n",
      "75000/75000 [==============================] - 3s 45us/step - loss: 0.4803 - acc: 0.7695\n",
      "Epoch 8/50\n",
      "75000/75000 [==============================] - 3s 42us/step - loss: 0.4785 - acc: 0.7705\n",
      "Epoch 9/50\n",
      "75000/75000 [==============================] - 3s 36us/step - loss: 0.4725 - acc: 0.7760\n",
      "Epoch 10/50\n",
      "75000/75000 [==============================] - 2s 32us/step - loss: 0.4712 - acc: 0.7756\n",
      "Epoch 11/50\n",
      "75000/75000 [==============================] - 3s 37us/step - loss: 0.4711 - acc: 0.7777\n",
      "Epoch 12/50\n",
      "75000/75000 [==============================] - 3s 46us/step - loss: 0.4687 - acc: 0.7777\n",
      "Epoch 13/50\n",
      "75000/75000 [==============================] - 3s 36us/step - loss: 0.4656 - acc: 0.7786\n",
      "Epoch 14/50\n",
      "75000/75000 [==============================] - 3s 45us/step - loss: 0.4645 - acc: 0.7803\n",
      "Epoch 15/50\n",
      "75000/75000 [==============================] - 3s 38us/step - loss: 0.4657 - acc: 0.7812\n",
      "Epoch 16/50\n",
      "75000/75000 [==============================] - 3s 35us/step - loss: 0.4632 - acc: 0.7821\n",
      "Epoch 17/50\n",
      "75000/75000 [==============================] - 2s 33us/step - loss: 0.4618 - acc: 0.7833\n",
      "Epoch 18/50\n",
      "75000/75000 [==============================] - 3s 39us/step - loss: 0.4616 - acc: 0.7834\n",
      "Epoch 19/50\n",
      "75000/75000 [==============================] - 4s 52us/step - loss: 0.4593 - acc: 0.7831\n",
      "Epoch 20/50\n",
      "75000/75000 [==============================] - 3s 34us/step - loss: 0.4576 - acc: 0.7855\n",
      "Epoch 21/50\n",
      "75000/75000 [==============================] - 3s 40us/step - loss: 0.4575 - acc: 0.7838\n",
      "Epoch 22/50\n",
      "75000/75000 [==============================] - 3s 45us/step - loss: 0.4577 - acc: 0.7849\n",
      "Epoch 23/50\n",
      "75000/75000 [==============================] - 2s 31us/step - loss: 0.4569 - acc: 0.7867\n",
      "Epoch 24/50\n",
      "75000/75000 [==============================] - 3s 34us/step - loss: 0.4561 - acc: 0.7862\n",
      "Epoch 25/50\n",
      "75000/75000 [==============================] - 3s 35us/step - loss: 0.4555 - acc: 0.7867\n",
      "Epoch 26/50\n",
      "75000/75000 [==============================] - 2s 31us/step - loss: 0.4553 - acc: 0.7860\n",
      "Epoch 27/50\n",
      "75000/75000 [==============================] - 2s 31us/step - loss: 0.4533 - acc: 0.7865\n",
      "Epoch 28/50\n",
      "75000/75000 [==============================] - 2s 32us/step - loss: 0.4549 - acc: 0.7873\n",
      "Epoch 29/50\n",
      "75000/75000 [==============================] - 2s 31us/step - loss: 0.4554 - acc: 0.7882\n",
      "Epoch 30/50\n",
      "75000/75000 [==============================] - 2s 31us/step - loss: 0.4551 - acc: 0.7855\n",
      "Epoch 31/50\n",
      "75000/75000 [==============================] - 3s 39us/step - loss: 0.4544 - acc: 0.7870\n",
      "Epoch 32/50\n",
      "75000/75000 [==============================] - 2s 33us/step - loss: 0.4535 - acc: 0.7874\n",
      "Epoch 33/50\n",
      "75000/75000 [==============================] - 3s 36us/step - loss: 0.4521 - acc: 0.7867\n",
      "Epoch 34/50\n",
      "75000/75000 [==============================] - 3s 41us/step - loss: 0.4524 - acc: 0.7877\n",
      "Epoch 35/50\n",
      "75000/75000 [==============================] - 4s 49us/step - loss: 0.4518 - acc: 0.7870\n",
      "Epoch 36/50\n",
      "75000/75000 [==============================] - 3s 43us/step - loss: 0.4497 - acc: 0.7887\n",
      "Epoch 37/50\n",
      "75000/75000 [==============================] - 4s 49us/step - loss: 0.4527 - acc: 0.7886\n",
      "Epoch 38/50\n",
      "75000/75000 [==============================] - 3s 45us/step - loss: 0.4516 - acc: 0.7881\n",
      "Epoch 39/50\n",
      "75000/75000 [==============================] - 4s 53us/step - loss: 0.4516 - acc: 0.7890\n",
      "Epoch 40/50\n",
      "75000/75000 [==============================] - 3s 38us/step - loss: 0.4522 - acc: 0.7879\n",
      "Epoch 41/50\n",
      "75000/75000 [==============================] - 3s 37us/step - loss: 0.4493 - acc: 0.7892\n",
      "Epoch 42/50\n",
      "75000/75000 [==============================] - 3s 40us/step - loss: 0.4492 - acc: 0.7894\n",
      "Epoch 43/50\n",
      "75000/75000 [==============================] - 4s 47us/step - loss: 0.4485 - acc: 0.7907\n",
      "Epoch 44/50\n",
      "75000/75000 [==============================] - 3s 43us/step - loss: 0.4492 - acc: 0.7914\n",
      "Epoch 45/50\n",
      "75000/75000 [==============================] - 3s 43us/step - loss: 0.4499 - acc: 0.7913\n",
      "Epoch 46/50\n",
      "75000/75000 [==============================] - 3s 45us/step - loss: 0.4504 - acc: 0.7891\n",
      "Epoch 47/50\n",
      "75000/75000 [==============================] - 3s 44us/step - loss: 0.4473 - acc: 0.7916\n",
      "Epoch 48/50\n",
      "75000/75000 [==============================] - 4s 48us/step - loss: 0.4489 - acc: 0.7902\n",
      "Epoch 49/50\n",
      "75000/75000 [==============================] - 3s 41us/step - loss: 0.4469 - acc: 0.7920\n",
      "Epoch 50/50\n",
      "75000/75000 [==============================] - 3s 43us/step - loss: 0.4454 - acc: 0.7941\n"
     ]
    },
    {
     "data": {
      "text/plain": [
       "<keras.callbacks.History at 0x7f3217d66668>"
      ]
     },
     "execution_count": 38,
     "metadata": {},
     "output_type": "execute_result"
    }
   ],
   "source": [
    "from tensorflow.keras.layers import Dense, Activation, Dropout\n",
    "\n",
    "K.clear_session()\n",
    "\n",
    "model = Sequential()\n",
    "model.add(Dense(units=100, input_dim=X_train.shape[-1], kernel_initializer='normal'))\n",
    "model.add(Activation('tanh'))\n",
    "model.add(Dropout(0.5))\n",
    "model.add(Dense(1, kernel_initializer='normal', activation='sigmoid'))\n",
    "model.compile(loss='binary_crossentropy', optimizer=\"adam\", metrics=['accuracy'])\n",
    "print(model.summary())\n",
    "model.fit(X_train, Y_train, epochs=5, batch_size=32)"
   ]
  },
  {
   "cell_type": "markdown",
   "metadata": {},
   "source": [
    "## Batchnormalization"
   ]
  },
  {
   "cell_type": "code",
   "execution_count": null,
   "metadata": {},
   "outputs": [],
   "source": [
    "from tensorflow.keras.layers import Dense, Activation, Dropout\n",
    "\n",
    "K.clear_session()\n",
    "\n",
    "model = Sequential()\n",
    "model.add(Dense(units=100, input_dim=X_train.shape[-1], kernel_initializer='normal'))\n",
    "model.add(BatchNormalization())\n",
    "model.add(Activation('tanh'))\n",
    "model.add(Dropout(0.5))\n",
    "model.add(Dense(1, kernel_initializer='normal', activation='sigmoid'))\n",
    "model.compile(loss='binary_crossentropy', optimizer=\"adam\", metrics=['accuracy'])\n",
    "print(model.summary())\n",
    "model.fit(X_train, Y_train, epochs=5, batch_size=32)"
   ]
  },
  {
   "cell_type": "markdown",
   "metadata": {},
   "source": [
    "## Keras Functional"
   ]
  },
  {
   "cell_type": "code",
   "execution_count": 23,
   "metadata": {
    "ExecuteTime": {
     "end_time": "2018-08-24T08:35:10.930191Z",
     "start_time": "2018-08-24T08:34:55.006939Z"
    }
   },
   "outputs": [
    {
     "name": "stdout",
     "output_type": "stream",
     "text": [
      "_________________________________________________________________\n",
      "Layer (type)                 Output Shape              Param #   \n",
      "=================================================================\n",
      "input_1 (InputLayer)         (None, 30)                0         \n",
      "_________________________________________________________________\n",
      "dense_1 (Dense)              (None, 64)                1984      \n",
      "_________________________________________________________________\n",
      "dense_2 (Dense)              (None, 64)                4160      \n",
      "_________________________________________________________________\n",
      "dense_3 (Dense)              (None, 1)                 65        \n",
      "=================================================================\n",
      "Total params: 6,209\n",
      "Trainable params: 6,209\n",
      "Non-trainable params: 0\n",
      "_________________________________________________________________\n",
      "None\n",
      "Epoch 1/5\n",
      "75000/75000 [==============================] - 3s 45us/step - loss: 8.3269 - acc: 0.4069\n",
      "Epoch 2/5\n",
      "75000/75000 [==============================] - 3s 43us/step - loss: 8.1561 - acc: 0.4182\n",
      "Epoch 3/5\n",
      "75000/75000 [==============================] - 3s 37us/step - loss: 8.1335 - acc: 0.4232\n",
      "Epoch 4/5\n",
      "75000/75000 [==============================] - 3s 40us/step - loss: 8.1266 - acc: 0.4277\n",
      "Epoch 5/5\n",
      "75000/75000 [==============================] - 3s 40us/step - loss: 8.1226 - acc: 0.4310\n"
     ]
    },
    {
     "ename": "ValueError",
     "evalue": "Layer model_1 was called with an input that isn't a symbolic tensor. Received type: <class 'numpy.ndarray'>. Full input: [array([[ 1.31783e+02,  2.54800e+00,  6.00680e+01, ..., -9.99000e+02,\n        -9.99000e+02,  1.22887e+02],\n       [-9.99000e+02,  7.01190e+01,  8.32330e+01, ..., -9.99000e+02,\n        -9.99000e+02,  0.00000e+00],\n       [ 1.38071e+02,  5.86400e+01,  6.85920e+01, ..., -9.99000e+02,\n        -9.99000e+02,  0.00000e+00],\n       ...,\n       [ 2.39320e+02,  2.83010e+01,  1.05537e+02, ..., -9.99000e+02,\n        -9.99000e+02,  4.17280e+01],\n       [ 1.37685e+02,  3.49000e-01,  8.98520e+01, ..., -9.99000e+02,\n        -9.99000e+02,  3.22280e+01],\n       [ 1.07309e+02,  5.13900e+01,  6.42100e+01, ..., -9.99000e+02,\n        -9.99000e+02,  3.26810e+01]])]. All inputs to the layer should be tensors.",
     "output_type": "error",
     "traceback": [
      "\u001b[0;31m---------------------------------------------------------------------------\u001b[0m",
      "\u001b[0;31mValueError\u001b[0m                                Traceback (most recent call last)",
      "\u001b[0;32m~/anaconda3/lib/python3.6/site-packages/keras/engine/base_layer.py\u001b[0m in \u001b[0;36massert_input_compatibility\u001b[0;34m(self, inputs)\u001b[0m\n\u001b[1;32m    278\u001b[0m             \u001b[0;32mtry\u001b[0m\u001b[0;34m:\u001b[0m\u001b[0;34m\u001b[0m\u001b[0m\n\u001b[0;32m--> 279\u001b[0;31m                 \u001b[0mK\u001b[0m\u001b[0;34m.\u001b[0m\u001b[0mis_keras_tensor\u001b[0m\u001b[0;34m(\u001b[0m\u001b[0mx\u001b[0m\u001b[0;34m)\u001b[0m\u001b[0;34m\u001b[0m\u001b[0m\n\u001b[0m\u001b[1;32m    280\u001b[0m             \u001b[0;32mexcept\u001b[0m \u001b[0mValueError\u001b[0m\u001b[0;34m:\u001b[0m\u001b[0;34m\u001b[0m\u001b[0m\n",
      "\u001b[0;32m~/anaconda3/lib/python3.6/site-packages/keras/backend/tensorflow_backend.py\u001b[0m in \u001b[0;36mis_keras_tensor\u001b[0;34m(x)\u001b[0m\n\u001b[1;32m    470\u001b[0m         raise ValueError('Unexpectedly found an instance of type `' +\n\u001b[0;32m--> 471\u001b[0;31m                          \u001b[0mstr\u001b[0m\u001b[0;34m(\u001b[0m\u001b[0mtype\u001b[0m\u001b[0;34m(\u001b[0m\u001b[0mx\u001b[0m\u001b[0;34m)\u001b[0m\u001b[0;34m)\u001b[0m \u001b[0;34m+\u001b[0m \u001b[0;34m'`. '\u001b[0m\u001b[0;34m\u001b[0m\u001b[0m\n\u001b[0m\u001b[1;32m    472\u001b[0m                          'Expected a symbolic tensor instance.')\n",
      "\u001b[0;31mValueError\u001b[0m: Unexpectedly found an instance of type `<class 'numpy.ndarray'>`. Expected a symbolic tensor instance.",
      "\nDuring handling of the above exception, another exception occurred:\n",
      "\u001b[0;31mValueError\u001b[0m                                Traceback (most recent call last)",
      "\u001b[0;32m<ipython-input-23-8e4234918a6f>\u001b[0m in \u001b[0;36m<module>\u001b[0;34m()\u001b[0m\n\u001b[1;32m     15\u001b[0m \u001b[0mmodel\u001b[0m\u001b[0;34m.\u001b[0m\u001b[0mfit\u001b[0m\u001b[0;34m(\u001b[0m\u001b[0mX_train\u001b[0m\u001b[0;34m,\u001b[0m \u001b[0mY_train\u001b[0m\u001b[0;34m,\u001b[0m \u001b[0mepochs\u001b[0m\u001b[0;34m=\u001b[0m\u001b[0;36m5\u001b[0m\u001b[0;34m,\u001b[0m \u001b[0mbatch_size\u001b[0m\u001b[0;34m=\u001b[0m\u001b[0;36m32\u001b[0m\u001b[0;34m)\u001b[0m\u001b[0;34m\u001b[0m\u001b[0m\n\u001b[1;32m     16\u001b[0m \u001b[0mpcut\u001b[0m\u001b[0;34m=\u001b[0m\u001b[0;36m0.5\u001b[0m\u001b[0;34m\u001b[0m\u001b[0m\n\u001b[0;32m---> 17\u001b[0;31m \u001b[0mY_train_pred\u001b[0m \u001b[0;34m=\u001b[0m \u001b[0mmodel\u001b[0m\u001b[0;34m(\u001b[0m\u001b[0mX_train\u001b[0m\u001b[0;34m)\u001b[0m\u001b[0;34m.\u001b[0m\u001b[0mflatten\u001b[0m\u001b[0;34m(\u001b[0m\u001b[0;34m)\u001b[0m \u001b[0;34m>\u001b[0m \u001b[0mpcut\u001b[0m\u001b[0;34m\u001b[0m\u001b[0m\n\u001b[0m\u001b[1;32m     18\u001b[0m \u001b[0mY_test_pred\u001b[0m \u001b[0;34m=\u001b[0m \u001b[0mmodel\u001b[0m\u001b[0;34m(\u001b[0m\u001b[0mX_test\u001b[0m\u001b[0;34m)\u001b[0m\u001b[0;34m.\u001b[0m\u001b[0mflatten\u001b[0m\u001b[0;34m(\u001b[0m\u001b[0;34m)\u001b[0m \u001b[0;34m>\u001b[0m \u001b[0mpcut\u001b[0m\u001b[0;34m\u001b[0m\u001b[0m\n\u001b[1;32m     19\u001b[0m \u001b[0mY_train_prob\u001b[0m\u001b[0;34m=\u001b[0m \u001b[0mmodel\u001b[0m\u001b[0;34m(\u001b[0m\u001b[0mX_train\u001b[0m\u001b[0;34m)\u001b[0m\u001b[0;34m.\u001b[0m\u001b[0mflatten\u001b[0m\u001b[0;34m(\u001b[0m\u001b[0;34m)\u001b[0m\u001b[0;34m\u001b[0m\u001b[0m\n",
      "\u001b[0;32m~/anaconda3/lib/python3.6/site-packages/keras/engine/base_layer.py\u001b[0m in \u001b[0;36m__call__\u001b[0;34m(self, inputs, **kwargs)\u001b[0m\n\u001b[1;32m    441\u001b[0m             \u001b[0;31m# Raise exceptions in case the input is not compatible\u001b[0m\u001b[0;34m\u001b[0m\u001b[0;34m\u001b[0m\u001b[0m\n\u001b[1;32m    442\u001b[0m             \u001b[0;31m# with the input_spec set at build time.\u001b[0m\u001b[0;34m\u001b[0m\u001b[0;34m\u001b[0m\u001b[0m\n\u001b[0;32m--> 443\u001b[0;31m             \u001b[0mself\u001b[0m\u001b[0;34m.\u001b[0m\u001b[0massert_input_compatibility\u001b[0m\u001b[0;34m(\u001b[0m\u001b[0minputs\u001b[0m\u001b[0;34m)\u001b[0m\u001b[0;34m\u001b[0m\u001b[0m\n\u001b[0m\u001b[1;32m    444\u001b[0m \u001b[0;34m\u001b[0m\u001b[0m\n\u001b[1;32m    445\u001b[0m             \u001b[0;31m# Handle mask propagation.\u001b[0m\u001b[0;34m\u001b[0m\u001b[0;34m\u001b[0m\u001b[0m\n",
      "\u001b[0;32m~/anaconda3/lib/python3.6/site-packages/keras/engine/base_layer.py\u001b[0m in \u001b[0;36massert_input_compatibility\u001b[0;34m(self, inputs)\u001b[0m\n\u001b[1;32m    283\u001b[0m                                  \u001b[0;34m'Received type: '\u001b[0m \u001b[0;34m+\u001b[0m\u001b[0;34m\u001b[0m\u001b[0m\n\u001b[1;32m    284\u001b[0m                                  \u001b[0mstr\u001b[0m\u001b[0;34m(\u001b[0m\u001b[0mtype\u001b[0m\u001b[0;34m(\u001b[0m\u001b[0mx\u001b[0m\u001b[0;34m)\u001b[0m\u001b[0;34m)\u001b[0m \u001b[0;34m+\u001b[0m \u001b[0;34m'. Full input: '\u001b[0m \u001b[0;34m+\u001b[0m\u001b[0;34m\u001b[0m\u001b[0m\n\u001b[0;32m--> 285\u001b[0;31m                                  \u001b[0mstr\u001b[0m\u001b[0;34m(\u001b[0m\u001b[0minputs\u001b[0m\u001b[0;34m)\u001b[0m \u001b[0;34m+\u001b[0m \u001b[0;34m'. All inputs to the layer '\u001b[0m\u001b[0;34m\u001b[0m\u001b[0m\n\u001b[0m\u001b[1;32m    286\u001b[0m                                  'should be tensors.')\n\u001b[1;32m    287\u001b[0m \u001b[0;34m\u001b[0m\u001b[0m\n",
      "\u001b[0;31mValueError\u001b[0m: Layer model_1 was called with an input that isn't a symbolic tensor. Received type: <class 'numpy.ndarray'>. Full input: [array([[ 1.31783e+02,  2.54800e+00,  6.00680e+01, ..., -9.99000e+02,\n        -9.99000e+02,  1.22887e+02],\n       [-9.99000e+02,  7.01190e+01,  8.32330e+01, ..., -9.99000e+02,\n        -9.99000e+02,  0.00000e+00],\n       [ 1.38071e+02,  5.86400e+01,  6.85920e+01, ..., -9.99000e+02,\n        -9.99000e+02,  0.00000e+00],\n       ...,\n       [ 2.39320e+02,  2.83010e+01,  1.05537e+02, ..., -9.99000e+02,\n        -9.99000e+02,  4.17280e+01],\n       [ 1.37685e+02,  3.49000e-01,  8.98520e+01, ..., -9.99000e+02,\n        -9.99000e+02,  3.22280e+01],\n       [ 1.07309e+02,  5.13900e+01,  6.42100e+01, ..., -9.99000e+02,\n        -9.99000e+02,  3.26810e+01]])]. All inputs to the layer should be tensors."
     ]
    }
   ],
   "source": [
    "from tensorflow.keras.models import Model\n",
    "from tensorflow.keras.layers import Input, Dense\n",
    "\n",
    "K.clear_session()\n",
    "\n",
    "inputs = Input(shape=(X_train.shape[-1],))\n",
    "x = Dense(64, activation='relu')(inputs)\n",
    "x = Dense(64, activation='relu')(x)\n",
    "pred = Dense(1, activation='sigmoid')(x)\n",
    "\n",
    "model = Model(inputs=inputs, outputs=pred)\n",
    "\n",
    "model.compile(loss='binary_crossentropy', optimizer=\"adam\", metrics=['accuracy'])\n",
    "print(model.summary())\n",
    "model.fit(X_train, Y_train, epochs=5, batch_size=32)\n",
    "pcut=0.5\n",
    "Y_train_pred = model(X_train).flatten() > pcut\n",
    "Y_test_pred = model(X_test).flatten() > pcut\n",
    "Y_train_prob= model(X_train).flatten()\n",
    "Y_test_prob = model(X_test).flatten()\n",
    "eval_model(Y_train,Y_train_pred,w_train,Y_test,Y_test_pred,w_test)"
   ]
  },
  {
   "cell_type": "markdown",
   "metadata": {},
   "source": [
    "## Truco: Skip connections"
   ]
  },
  {
   "cell_type": "code",
   "execution_count": 16,
   "metadata": {
    "ExecuteTime": {
     "end_time": "2018-08-24T08:25:19.434913Z",
     "start_time": "2018-08-24T08:25:06.632221Z"
    }
   },
   "outputs": [
    {
     "name": "stdout",
     "output_type": "stream",
     "text": [
      "__________________________________________________________________________________________________\n",
      "Layer (type)                    Output Shape         Param #     Connected to                     \n",
      "==================================================================================================\n",
      "input_1 (InputLayer)            (None, 30)           0                                            \n",
      "__________________________________________________________________________________________________\n",
      "dense_1 (Dense)                 (None, 64)           1984        input_1[0][0]                    \n",
      "__________________________________________________________________________________________________\n",
      "dense_2 (Dense)                 (None, 64)           4160        dense_1[0][0]                    \n",
      "__________________________________________________________________________________________________\n",
      "concatenate_1 (Concatenate)     (None, 128)          0           dense_1[0][0]                    \n",
      "                                                                 dense_2[0][0]                    \n",
      "__________________________________________________________________________________________________\n",
      "dense_3 (Dense)                 (None, 1)            129         concatenate_1[0][0]              \n",
      "==================================================================================================\n",
      "Total params: 6,273\n",
      "Trainable params: 6,273\n",
      "Non-trainable params: 0\n",
      "__________________________________________________________________________________________________\n",
      "None\n",
      "Epoch 1/5\n",
      "75000/75000 [==============================] - 3s 36us/step - loss: 8.3250 - acc: 0.4267\n",
      "Epoch 2/5\n",
      "75000/75000 [==============================] - 3s 34us/step - loss: 8.1833 - acc: 0.4130\n",
      "Epoch 3/5\n",
      "75000/75000 [==============================] - 3s 38us/step - loss: 8.1519 - acc: 0.4190\n",
      "Epoch 4/5\n",
      "75000/75000 [==============================] - 2s 28us/step - loss: 8.1379 - acc: 0.4232\n",
      "Epoch 5/5\n",
      "75000/75000 [==============================] - 2s 29us/step - loss: 8.1294 - acc: 0.4275\n"
     ]
    },
    {
     "data": {
      "image/svg+xml": [
       "<svg height=\"337pt\" viewBox=\"0.00 0.00 182.00 337.00\" width=\"182pt\" xmlns=\"http://www.w3.org/2000/svg\" xmlns:xlink=\"http://www.w3.org/1999/xlink\">\n",
       "<g class=\"graph\" id=\"graph0\" transform=\"scale(1 1) rotate(0) translate(4 333)\">\n",
       "<title>G</title>\n",
       "<polygon fill=\"#ffffff\" points=\"-4,4 -4,-333 178,-333 178,4 -4,4\" stroke=\"transparent\"/>\n",
       "<!-- 139671157416176 -->\n",
       "<g class=\"node\" id=\"node1\">\n",
       "<title>139671157416176</title>\n",
       "<polygon fill=\"none\" points=\"27.5,-292.5 27.5,-328.5 152.5,-328.5 152.5,-292.5 27.5,-292.5\" stroke=\"#000000\"/>\n",
       "<text fill=\"#000000\" font-family=\"Times,serif\" font-size=\"14.00\" text-anchor=\"middle\" x=\"90\" y=\"-306.8\">input_1: InputLayer</text>\n",
       "</g>\n",
       "<!-- 139671161568504 -->\n",
       "<g class=\"node\" id=\"node2\">\n",
       "<title>139671161568504</title>\n",
       "<polygon fill=\"none\" points=\"39,-219.5 39,-255.5 141,-255.5 141,-219.5 39,-219.5\" stroke=\"#000000\"/>\n",
       "<text fill=\"#000000\" font-family=\"Times,serif\" font-size=\"14.00\" text-anchor=\"middle\" x=\"90\" y=\"-233.8\">dense_1: Dense</text>\n",
       "</g>\n",
       "<!-- 139671157416176&#45;&gt;139671161568504 -->\n",
       "<g class=\"edge\" id=\"edge1\">\n",
       "<title>139671157416176-&gt;139671161568504</title>\n",
       "<path d=\"M90,-292.4551C90,-284.3828 90,-274.6764 90,-265.6817\" fill=\"none\" stroke=\"#000000\"/>\n",
       "<polygon fill=\"#000000\" points=\"93.5001,-265.5903 90,-255.5904 86.5001,-265.5904 93.5001,-265.5903\" stroke=\"#000000\"/>\n",
       "</g>\n",
       "<!-- 139671157417352 -->\n",
       "<g class=\"node\" id=\"node3\">\n",
       "<title>139671157417352</title>\n",
       "<polygon fill=\"none\" points=\"0,-146.5 0,-182.5 102,-182.5 102,-146.5 0,-146.5\" stroke=\"#000000\"/>\n",
       "<text fill=\"#000000\" font-family=\"Times,serif\" font-size=\"14.00\" text-anchor=\"middle\" x=\"51\" y=\"-160.8\">dense_2: Dense</text>\n",
       "</g>\n",
       "<!-- 139671161568504&#45;&gt;139671157417352 -->\n",
       "<g class=\"edge\" id=\"edge2\">\n",
       "<title>139671161568504-&gt;139671157417352</title>\n",
       "<path d=\"M80.3595,-219.4551C75.8595,-211.0319 70.4088,-200.8292 65.4315,-191.5128\" fill=\"none\" stroke=\"#000000\"/>\n",
       "<polygon fill=\"#000000\" points=\"68.464,-189.7613 60.6647,-182.5904 62.2898,-193.0598 68.464,-189.7613\" stroke=\"#000000\"/>\n",
       "</g>\n",
       "<!-- 139671157417072 -->\n",
       "<g class=\"node\" id=\"node4\">\n",
       "<title>139671157417072</title>\n",
       "<polygon fill=\"none\" points=\"6,-73.5 6,-109.5 174,-109.5 174,-73.5 6,-73.5\" stroke=\"#000000\"/>\n",
       "<text fill=\"#000000\" font-family=\"Times,serif\" font-size=\"14.00\" text-anchor=\"middle\" x=\"90\" y=\"-87.8\">concatenate_1: Concatenate</text>\n",
       "</g>\n",
       "<!-- 139671161568504&#45;&gt;139671157417072 -->\n",
       "<g class=\"edge\" id=\"edge3\">\n",
       "<title>139671161568504-&gt;139671157417072</title>\n",
       "<path d=\"M98.9387,-219.3287C103.54,-208.9597 108.6637,-195.5609 111,-183 114.007,-166.8328 114.007,-162.1672 111,-146 109.3208,-136.9719 106.2016,-127.5109 102.8714,-119.0531\" fill=\"none\" stroke=\"#000000\"/>\n",
       "<polygon fill=\"#000000\" points=\"106.0325,-117.5407 98.9387,-109.6713 99.5768,-120.2469 106.0325,-117.5407\" stroke=\"#000000\"/>\n",
       "</g>\n",
       "<!-- 139671157417352&#45;&gt;139671157417072 -->\n",
       "<g class=\"edge\" id=\"edge4\">\n",
       "<title>139671157417352-&gt;139671157417072</title>\n",
       "<path d=\"M60.6405,-146.4551C65.1405,-138.0319 70.5912,-127.8292 75.5685,-118.5128\" fill=\"none\" stroke=\"#000000\"/>\n",
       "<polygon fill=\"#000000\" points=\"78.7102,-120.0598 80.3353,-109.5904 72.536,-116.7613 78.7102,-120.0598\" stroke=\"#000000\"/>\n",
       "</g>\n",
       "<!-- 139671157369936 -->\n",
       "<g class=\"node\" id=\"node5\">\n",
       "<title>139671157369936</title>\n",
       "<polygon fill=\"none\" points=\"39,-.5 39,-36.5 141,-36.5 141,-.5 39,-.5\" stroke=\"#000000\"/>\n",
       "<text fill=\"#000000\" font-family=\"Times,serif\" font-size=\"14.00\" text-anchor=\"middle\" x=\"90\" y=\"-14.8\">dense_3: Dense</text>\n",
       "</g>\n",
       "<!-- 139671157417072&#45;&gt;139671157369936 -->\n",
       "<g class=\"edge\" id=\"edge5\">\n",
       "<title>139671157417072-&gt;139671157369936</title>\n",
       "<path d=\"M90,-73.4551C90,-65.3828 90,-55.6764 90,-46.6817\" fill=\"none\" stroke=\"#000000\"/>\n",
       "<polygon fill=\"#000000\" points=\"93.5001,-46.5903 90,-36.5904 86.5001,-46.5904 93.5001,-46.5903\" stroke=\"#000000\"/>\n",
       "</g>\n",
       "</g>\n",
       "</svg>"
      ],
      "text/plain": [
       "<IPython.core.display.SVG object>"
      ]
     },
     "execution_count": 16,
     "metadata": {},
     "output_type": "execute_result"
    }
   ],
   "source": [
    "from tensorflow.keras.models import Model\n",
    "from tensorflow.keras.layers import Input, Dense, Concatenate\n",
    "\n",
    "K.clear_session()\n",
    "\n",
    "inputs = Input(shape=(X_train.shape[-1],))\n",
    "x1 = Dense(64, activation='relu')(inputs)\n",
    "x2 = Dense(64, activation='relu')(x1)\n",
    "skipped = Concatenate()([x1,x2])\n",
    "pred = Dense(1, activation='sigmoid')(skipped)\n",
    "\n",
    "model = Model(inputs=inputs, outputs=pred)\n",
    "\n",
    "model.compile(loss='binary_crossentropy', optimizer=\"adam\", metrics=['accuracy'])\n",
    "print(model.summary())\n",
    "model.fit(X_train, Y_train, epochs=5, batch_size=32)\n",
    "pcut=0.5\n",
    "Y_train_pred = model(X_train).flatten() > pcut\n",
    "Y_test_pred = model(X_test).flatten() > pcut\n",
    "Y_train_prob= model(X_train).flatten()\n",
    "Y_test_prob = model(X_test).flatten()\n",
    "eval_model(Y_train,Y_train_pred,w_train,Y_test,Y_test_pred,w_test)\n",
    "keras_graph(model)\n"
   ]
  },
  {
   "cell_type": "markdown",
   "metadata": {},
   "source": [
    "## Optimizador\n",
    "\n",
    "\n",
    "\n",
    "\n",
    "![](https://github.com/beangoben/deep_learning_escuela_verano_19/blob/master/media/dia2/gradient_descent.gif?raw=true)\n",
    "\n",
    "\n",
    "Imagenes de Sebastian Ruder (http://ruder.io)\n",
    "\n",
    "\n",
    "![](https://github.com/beangoben/deep_learning_escuela_verano_19/blob/master/media/dia2/optimizers_contours.gif?raw=true)\n",
    "\n",
    "![](https://github.com/beangoben/deep_learning_escuela_verano_19/blob/master/media/dia2/optimizers_saddle.gif?raw=true)\n",
    "\n",
    "Imagenes de https://github.com/wassname/viz_torch_optim'\n",
    "\n",
    "\n",
    "Y hay muchos mas en camino! (http://www.fast.ai/2018/07/02/adam-weight-decay/)"
   ]
  },
  {
   "cell_type": "code",
   "execution_count": 21,
   "metadata": {
    "ExecuteTime": {
     "end_time": "2018-08-24T08:33:37.789587Z",
     "start_time": "2018-08-24T08:32:15.479848Z"
    }
   },
   "outputs": [
    {
     "name": "stdout",
     "output_type": "stream",
     "text": [
      "====<class 'keras.optimizers.SGD'>===\n",
      "Epoch 1/5\n",
      "75000/75000 [==============================] - 3s 44us/step - loss: 5.7608 - acc: 0.6422\n",
      "Epoch 2/5\n",
      "75000/75000 [==============================] - 3s 42us/step - loss: 5.5027 - acc: 0.6586\n",
      "Epoch 3/5\n",
      "75000/75000 [==============================] - 3s 39us/step - loss: 5.5027 - acc: 0.6586\n",
      "Epoch 4/5\n",
      "75000/75000 [==============================] - 3s 44us/step - loss: 5.5027 - acc: 0.6586\n",
      "Epoch 5/5\n",
      "75000/75000 [==============================] - 3s 38us/step - loss: 5.5027 - acc: 0.6586\n",
      "--- Resultados --\n",
      "- AUC train: 0.500 \n",
      "- AUC test : 0.500 \n",
      "- AMS train: 0.000 sigma\n",
      "- AMS test : 0.000 sigma\n",
      "====<class 'keras.optimizers.SGD'>===\n",
      "Epoch 1/5\n",
      "75000/75000 [==============================] - 4s 48us/step - loss: 5.5046 - acc: 0.6585\n",
      "Epoch 2/5\n",
      "75000/75000 [==============================] - 4s 48us/step - loss: 5.5027 - acc: 0.6586: 0s - loss: 5.5110 - acc:\n",
      "Epoch 3/5\n",
      "75000/75000 [==============================] - 3s 46us/step - loss: 5.5027 - acc: 0.6586\n",
      "Epoch 4/5\n",
      "75000/75000 [==============================] - 3s 46us/step - loss: 5.5027 - acc: 0.6586\n",
      "Epoch 5/5\n",
      "75000/75000 [==============================] - 4s 49us/step - loss: 5.5027 - acc: 0.6586\n",
      "--- Resultados --\n",
      "- AUC train: 0.500 \n",
      "- AUC test : 0.500 \n",
      "- AMS train: 0.000 sigma\n",
      "- AMS test : 0.000 sigma\n",
      "====<class 'keras.optimizers.Adam'>===\n",
      "Epoch 1/5\n",
      "75000/75000 [==============================] - 3s 43us/step - loss: 10.4991 - acc: 0.3414\n",
      "Epoch 2/5\n",
      "75000/75000 [==============================] - 3s 38us/step - loss: 10.4997 - acc: 0.3414\n",
      "Epoch 3/5\n",
      "75000/75000 [==============================] - 3s 37us/step - loss: 10.4997 - acc: 0.3414\n",
      "Epoch 4/5\n",
      "75000/75000 [==============================] - 3s 37us/step - loss: 10.4997 - acc: 0.3414\n",
      "Epoch 5/5\n",
      "75000/75000 [==============================] - 3s 38us/step - loss: 10.4997 - acc: 0.3414\n",
      "--- Resultados --\n",
      "- AUC train: 0.500 \n",
      "- AUC test : 0.500 \n",
      "- AMS train: 0.895 sigma\n",
      "- AMS test : 1.199 sigma\n",
      "====<class 'keras.optimizers.Adagrad'>===\n",
      "Epoch 1/5\n",
      "75000/75000 [==============================] - 4s 48us/step - loss: 5.7157 - acc: 0.6438\n",
      "Epoch 2/5\n",
      "75000/75000 [==============================] - 3s 35us/step - loss: 5.7464 - acc: 0.6419\n",
      "Epoch 3/5\n",
      "75000/75000 [==============================] - 3s 36us/step - loss: 5.7464 - acc: 0.6419\n",
      "Epoch 4/5\n",
      "75000/75000 [==============================] - 3s 36us/step - loss: 5.7464 - acc: 0.6419\n",
      "Epoch 5/5\n",
      "75000/75000 [==============================] - 3s 37us/step - loss: 5.7464 - acc: 0.6419\n",
      "--- Resultados --\n",
      "- AUC train: 0.578 \n",
      "- AUC test : 0.575 \n",
      "- AMS train: 0.578 sigma\n",
      "- AMS test : 0.752 sigma\n"
     ]
    }
   ],
   "source": [
    "from tensorflow.keras.models import Model\n",
    "from tensorflow.keras.layers import Input, Dense, Concatenate\n",
    "from tensorflow.keras import optimizers\n",
    "\n",
    "lr = 0.01\n",
    "K.clear_session()\n",
    "for opt in [optimizers.SGD(lr=lr),\n",
    "            optimizers.SGD(lr=lr, decay=1e-6, momentum=0.9, nesterov=True),\n",
    "            optimizers.Adam(lr=lr),\n",
    "            optimizers.Adagrad(lr=lr)\n",
    "           ]:\n",
    "    print('===={}==='.format(str(opt.__class__)))\n",
    "    inputs = Input(shape=(X_train.shape[-1],))\n",
    "    x1 = Dense(64, activation='relu')(inputs)\n",
    "    x2 = Dense(64, activation='relu')(x1)\n",
    "    skipped = Concatenate()([x1,x2])\n",
    "    pred = Dense(1, activation='sigmoid')(skipped)\n",
    "    model = Model(inputs=inputs, outputs=pred)\n",
    "    model.compile(loss='binary_crossentropy', optimizer=opt, metrics=['accuracy'])\n",
    "    model.fit(X_train, Y_train, epochs=5, batch_size=32)\n",
    "    pcut=0.5\n",
    "    Y_train_pred = model(X_train).flatten() > pcut\n",
    "    Y_test_pred = model(X_test).flatten() > pcut\n",
    "    Y_train_prob= model(X_train).flatten()\n",
    "    Y_test_prob = model(X_test).flatten()\n",
    "    eval_model(Y_train,Y_train_pred,w_train,Y_test,Y_test_pred,w_test)"
   ]
  },
  {
   "cell_type": "markdown",
   "metadata": {},
   "source": [
    "## Controlando el learning rate\n",
    "\n",
    "\n",
    "#### One cycle LR\n",
    "![](https://github.com/beangoben/chemistry_ml_colab/blob/master/images/lr_finder.png?raw=true))\n",
    "#### Cycles for LR\n",
    "![](https://github.com/beangoben/chemistry_ml_colab/blob/master/images/cyclic_lr.png?raw=true))\n",
    "![](https://github.com/beangoben/chemistry_ml_colab/blob/master/images/Lanscape_lr.png?raw=true)\n",
    "\n",
    "\n",
    "\n",
    "* Cyclical Learning Rates for Training Neural Networks (https://arxiv.org/abs/1506.01186)\n",
    "* Setting the learning rate of your neural network. (https://www.jeremyjordan.me/nn-learning-rate/)\n",
    "* SNAPSHOT ENSEMBLES: TRAIN 1, GET M FOR FREE (https://arxiv.org/pdf/1704.00109.pdf)\n",
    "* SGDR: STOCHASTIC GRADIENT DESCENT WITH WARM RESTARTS (https://arxiv.org/pdf/1608.03983.pdf)"
   ]
  },
  {
   "cell_type": "code",
   "execution_count": 48,
   "metadata": {
    "ExecuteTime": {
     "end_time": "2018-08-24T09:03:13.188922Z",
     "start_time": "2018-08-24T09:02:58.664235Z"
    }
   },
   "outputs": [
    {
     "name": "stdout",
     "output_type": "stream",
     "text": [
      "Epoch 1/5\n",
      "75000/75000 [==============================] - 3s 38us/step - loss: 0.6433 - acc: 0.6586\n",
      "Epoch 2/5\n",
      "75000/75000 [==============================] - 3s 40us/step - loss: 0.6425 - acc: 0.6586\n",
      "Epoch 3/5\n",
      "75000/75000 [==============================] - 3s 36us/step - loss: 0.6422 - acc: 0.6586\n",
      "Epoch 4/5\n",
      "75000/75000 [==============================] - 3s 39us/step - loss: 0.6421 - acc: 0.6586\n",
      "Epoch 5/5\n",
      "75000/75000 [==============================] - 3s 39us/step - loss: 0.6420 - acc: 0.6586\n"
     ]
    },
    {
     "data": {
      "image/png": "[encoded data removed]",
      "text/plain": [
       "<Figure size 432x288 with 1 Axes>"
      ]
     },
     "metadata": {
      "image/png": {
       "height": 263,
       "width": 400
      }
     },
     "output_type": "display_data"
    }
   ],
   "source": [
    "from keras.callbacks import LearningRateScheduler\n",
    "class LossHistory(keras.callbacks.Callback):\n",
    "    def on_train_begin(self, logs={}):\n",
    "        self.losses = []\n",
    "        self.lr = []\n",
    "    def on_epoch_end(self, batch, logs={}):\n",
    "        self.losses.append(logs.get('loss'))\n",
    "        self.lr.append(step_decay(len(self.losses)))\n",
    "        \n",
    "def step_decay(epoch):\n",
    "    initial_lrate = 0.1\n",
    "    drop = 0.5\n",
    "    epochs_drop = 1.0\n",
    "    lrate = initial_lrate * np.power(drop,  \n",
    "           np.floor((1+epoch)/epochs_drop))\n",
    "    return lrate\n",
    "\n",
    "loss_history = LossHistory()\n",
    "lrate = LearningRateScheduler(step_decay)\n",
    "callbacks = [loss_history, lrate]\n",
    "\n",
    "\n",
    "hist = model.fit(X_train, Y_train,\n",
    "          epochs=5, batch_size=32,callbacks=callbacks)\n",
    "\n",
    "plt.plot(loss_history.losses,loss_history.lr)\n",
    "plt.xlabel('learning rate')\n",
    "plt.ylabel('loss')\n",
    "plt.show()"
   ]
  },
  {
   "cell_type": "markdown",
   "metadata": {},
   "source": [
    "## Actividad: Crea una red poderosa!\n",
    "\n",
    "Sugerencias:\n",
    "* Usa los trucos que vimos\n",
    "* Cual es el efecto de entrenar con un learning rate bajo, alto?\n",
    "* Ojo con le optimizador y el learning rate, es super importante!"
   ]
  },
  {
   "cell_type": "code",
   "execution_count": null,
   "metadata": {},
   "outputs": [],
   "source": []
  },
  {
   "cell_type": "markdown",
   "metadata": {},
   "source": [
    "## Como optimizar hiperparametros\n",
    "\n",
    "![](https://github.com/beangoben/chemistry_ml_colab/blob/master/images/bayesopt.gif?raw=true)\n",
    "\n",
    "\n",
    "* https://github.com/fmfn/BayesianOptimization/blob/master/examples/visualization.ipynb\n",
    "* https://github.com/SheffieldML/GPyOpt\n",
    "* https://github.com/automl/pysmac\n",
    "* http://sheffieldml.github.io/GPyOpt/"
   ]
  },
  {
   "cell_type": "code",
   "execution_count": null,
   "metadata": {},
   "outputs": [],
   "source": [
    "from bayes_opt import BayesianOptimization\n",
    "from bayes_opt import UtilityFunction\n",
    "from matplotlib import gridspec\n",
    "\n",
    "def posterior(optimizer, x_obs, y_obs, grid):\n",
    "    optimizer._gp.fit(x_obs, y_obs)\n",
    "\n",
    "    mu, sigma = optimizer._gp.predict(grid, return_std=True)\n",
    "    return mu, sigma\n",
    "\n",
    "def plot_gp(optimizer, x, y):\n",
    "    fig = plt.figure(figsize=(16, 10))\n",
    "    steps = len(optimizer.space)\n",
    "    fig.suptitle(\n",
    "        'Gaussian Process and Utility Function After {} Steps'.format(steps),\n",
    "        fontdict={'size':30}\n",
    "    )\n",
    "    \n",
    "    gs = gridspec.GridSpec(2, 1, height_ratios=[3, 1]) \n",
    "    axis = plt.subplot(gs[0])\n",
    "    acq = plt.subplot(gs[1])\n",
    "    \n",
    "    x_obs = np.array([[res[\"params\"][\"x\"]] for res in optimizer.res])\n",
    "    y_obs = np.array([res[\"target\"] for res in optimizer.res])\n",
    "    \n",
    "    mu, sigma = posterior(optimizer, x_obs, y_obs, x)\n",
    "    axis.plot(x, y, linewidth=3, label='Target')\n",
    "    axis.plot(x_obs.flatten(), y_obs, 'D', markersize=8, label=u'Observations', color='r')\n",
    "    axis.plot(x, mu, '--', color='k', label='Prediction')\n",
    "\n",
    "    axis.fill(np.concatenate([x, x[::-1]]), \n",
    "              np.concatenate([mu - 1.9600 * sigma, (mu + 1.9600 * sigma)[::-1]]),\n",
    "        alpha=.6, fc='c', ec='None', label='95% confidence interval')\n",
    "    \n",
    "    axis.set_xlim((-2, 10))\n",
    "    axis.set_ylim((None, None))\n",
    "    axis.set_ylabel('f(x)', fontdict={'size':20})\n",
    "    axis.set_xlabel('x', fontdict={'size':20})\n",
    "    \n",
    "    utility_function = UtilityFunction(kind=\"ucb\", kappa=5, xi=0)\n",
    "    utility = utility_function.utility(x, optimizer._gp, 0)\n",
    "    acq.plot(x, utility, label='Utility Function', color='purple')\n",
    "    acq.plot(x[np.argmax(utility)], np.max(utility), '*', markersize=15, \n",
    "             label=u'Next Best Guess', markerfacecolor='gold', markeredgecolor='k', markeredgewidth=1)\n",
    "    acq.set_xlim((-2, 10))\n",
    "    acq.set_ylim((0, np.max(utility) + 0.5))\n",
    "    acq.set_ylabel('Utility', fontdict={'size':20})\n",
    "    acq.set_xlabel('x', fontdict={'size':20})\n",
    "    \n",
    "    axis.legend(loc=2, bbox_to_anchor=(1.01, 1), borderaxespad=0.)\n",
    "    acq.legend(loc=2, bbox_to_anchor=(1.01, 1), borderaxespad=0.)"
   ]
  },
  {
   "cell_type": "markdown",
   "metadata": {},
   "source": [
    "## Black box function"
   ]
  },
  {
   "cell_type": "code",
   "execution_count": null,
   "metadata": {},
   "outputs": [],
   "source": [
    "def target(x):\n",
    "    return np.exp(-(x - 2)**2) + np.exp(-(x - 6)**2/10) + 1/ (x**2 + 1)\n",
    "\n",
    "\n",
    "x = np.linspace(-2, 10, 10000).reshape(-1, 1)\n",
    "y = target(x)\n",
    "\n",
    "plt.plot(x, y)\n",
    "plt.show()"
   ]
  },
  {
   "cell_type": "markdown",
   "metadata": {},
   "source": [
    "## Inicia el optimizador bayesiano (BO)"
   ]
  },
  {
   "cell_type": "code",
   "execution_count": null,
   "metadata": {},
   "outputs": [],
   "source": [
    "optimizer = BayesianOptimization(target, {'x': (-2, 10)})\n",
    "optimizer.maximize(init_points=0, n_iter=0, kappa=5)"
   ]
  },
  {
   "cell_type": "markdown",
   "metadata": {},
   "source": [
    "## Itera el BO"
   ]
  },
  {
   "cell_type": "code",
   "execution_count": null,
   "metadata": {},
   "outputs": [],
   "source": [
    "optimizer.maximize(init_points=0, n_iter=1, kappa=5)\n",
    "plot_gp(optimizer, x, y)"
   ]
  },
  {
   "cell_type": "markdown",
   "metadata": {},
   "source": [
    "## Actividad: Optimiza un parametro de tu red"
   ]
  },
  {
   "cell_type": "code",
   "execution_count": null,
   "metadata": {},
   "outputs": [],
   "source": []
  },
  {
   "cell_type": "markdown",
   "metadata": {},
   "source": [
    "# Cuantificando incertidumbre\n",
    "## via ensembles"
   ]
  },
  {
   "cell_type": "code",
   "execution_count": null,
   "metadata": {},
   "outputs": [],
   "source": []
  },
  {
   "cell_type": "markdown",
   "metadata": {},
   "source": [
    "### Siempre transforma tu incertidumbre en algo interpretable\n",
    "\n",
    "https://scikit-learn.org/stable/modules/generated/sklearn.preprocessing.quantile_transform.html\n",
    "https://scikit-learn.org/stable/modules/calibration.html"
   ]
  },
  {
   "cell_type": "code",
   "execution_count": null,
   "metadata": {},
   "outputs": [],
   "source": []
  },
  {
   "cell_type": "markdown",
   "metadata": {},
   "source": [
    "## Ultima capa bayesiana"
   ]
  },
  {
   "cell_type": "code",
   "execution_count": null,
   "metadata": {},
   "outputs": [],
   "source": [
    "import tensorflow_probability as tfp\n"
   ]
  }
 ],
 "metadata": {
  "kernelspec": {
   "display_name": "Python 3",
   "language": "python",
   "name": "python3"
  },
  "language_info": {
   "codemirror_mode": {
    "name": "ipython",
    "version": 3
   },
   "file_extension": ".py",
   "mimetype": "text/x-python",
   "name": "python",
   "nbconvert_exporter": "python",
   "pygments_lexer": "ipython3",
   "version": "3.7.3"
  },
  "toc": {
   "base_numbering": 1,
   "nav_menu": {},
   "number_sections": false,
   "sideBar": true,
   "skip_h1_title": false,
   "title_cell": "Table of Contents",
   "title_sidebar": "Contents",
   "toc_cell": true,
   "toc_position": {
    "height": "calc(100% - 180px)",
    "left": "10px",
    "top": "150px",
    "width": "209px"
   },
   "toc_section_display": true,
   "toc_window_display": true
  }
 },
 "nbformat": 4,
 "nbformat_minor": 1
}
