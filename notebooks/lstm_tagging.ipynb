{
 "cells": [
  {
   "cell_type": "markdown",
   "metadata": {},
   "source": [
    "# LSTM básico para etiquetado de secuencias"
   ]
  },
  {
   "cell_type": "markdown",
   "metadata": {},
   "source": [
    "En este tutorial vamos a explorar la creación de un etiquetador con LSTMs. Vamos a procesar una frase con una etiquetas que llamamos \"partes del habla\" (Part of Speech), lo cuál no es nada mas que etiquetas con funciones gramaticales de cada palabra. \n",
    "\n",
    "Para ello vamos a usar la biblioteca keras, que en tensorflow ya es parte de esta. "
   ]
  },
  {
   "cell_type": "code",
   "execution_count": 71,
   "metadata": {},
   "outputs": [],
   "source": [
    "import tensorflow.keras as keras"
   ]
  },
  {
   "cell_type": "markdown",
   "metadata": {},
   "source": [
    "### Preparar los datos"
   ]
  },
  {
   "cell_type": "markdown",
   "metadata": {},
   "source": [
    "Ahora vamos a importar la base de datos con la que vemos a trabajar. Para ello usamos la biblioteca NLTK."
   ]
  },
  {
   "cell_type": "code",
   "execution_count": 72,
   "metadata": {},
   "outputs": [
    {
     "name": "stderr",
     "output_type": "stream",
     "text": [
      "[nltk_data] Downloading package treebank to /Users/jm/nltk_data...\n",
      "[nltk_data]   Package treebank is already up-to-date!\n",
      "[nltk_data] Downloading package universal_tagset to\n",
      "[nltk_data]     /Users/jm/nltk_data...\n",
      "[nltk_data]   Package universal_tagset is already up-to-date!\n"
     ]
    },
    {
     "data": {
      "text/plain": [
       "True"
      ]
     },
     "execution_count": 72,
     "metadata": {},
     "output_type": "execute_result"
    }
   ],
   "source": [
    "import nltk\n",
    "nltk.download(\"treebank\")\n",
    "nltk.download(\"universal_tagset\")"
   ]
  },
  {
   "cell_type": "markdown",
   "metadata": {},
   "source": [
    "Ahora que ya tenemos instalados los datos vamos a cargar los datos a nuestro programa. Para poder ver los datos y entender su funcionamiento imprimiremos los mismos."
   ]
  },
  {
   "cell_type": "code",
   "execution_count": 73,
   "metadata": {},
   "outputs": [
    {
     "name": "stdout",
     "output_type": "stream",
     "text": [
      "[('Pierre', 'NOUN'), ('Vinken', 'NOUN'), (',', '.'), ('61', 'NUM'), ('years', 'NOUN'), ('old', 'ADJ'), (',', '.'), ('will', 'VERB'), ('join', 'VERB'), ('the', 'DET'), ('board', 'NOUN'), ('as', 'ADP'), ('a', 'DET'), ('nonexecutive', 'ADJ'), ('director', 'NOUN'), ('Nov.', 'NOUN'), ('29', 'NUM'), ('.', '.')]\n"
     ]
    }
   ],
   "source": [
    "from nltk.corpus import treebank\n",
    "\n",
    "sentences = treebank.tagged_sents(tagset=\"universal\")\n",
    "print(sentences[0])"
   ]
  },
  {
   "cell_type": "markdown",
   "metadata": {},
   "source": [
    "Ahora vamos a separar las palabras de los tags."
   ]
  },
  {
   "cell_type": "code",
   "execution_count": 74,
   "metadata": {},
   "outputs": [],
   "source": [
    "sentences_data = list()\n",
    "tags_data = list()\n",
    "\n",
    "# Separando tags de palabras\n",
    "for sentence in sentences:\n",
    "    s, t = zip(*sentence)\n",
    "    sentences_data.append(s)\n",
    "    tags_data.append(t)\n",
    "    \n"
   ]
  },
  {
   "cell_type": "markdown",
   "metadata": {},
   "source": [
    "Para separar los datos vamos a usar la biblioteca sklearn.  Lo vamos a hacer en tres partes. Uno para entrenar el modelo, otro para ajustar nuestros hiperparámetros y un último para probar nuestro modelo.Esta nos permite realizar la operación de manera automática."
   ]
  },
  {
   "cell_type": "code",
   "execution_count": 75,
   "metadata": {},
   "outputs": [],
   "source": [
    "from sklearn.model_selection import train_test_split\n",
    "\n",
    "# Dividir los datos en tres conjuntos: train, dev y test\n",
    "\n",
    "train_sent, test_sent, train_tags, test_tags = train_test_split(sentences_data, tags_data, test_size=0.2)\n",
    "train_sent, dev_sent, train_tags, dev_tags = train_test_split(train_sent, train_tags, test_size=0.1)\n",
    "\n",
    "\n",
    "# Hacer una lista de todos los tags y de todas las palabras vistas en el conjunto de entrenamiento\n",
    "\n",
    "uniq_tags = list()\n",
    "uniq_words = list()\n",
    "\n",
    "for sent,tags in zip(train_sent, train_tags):\n",
    "    for word, tag in zip(sent, tags):\n",
    "        uniq_tags.append(tag)\n",
    "        uniq_words.append(word)\n",
    "\n",
    "uniq_tags = list(set(uniq_tags))\n",
    "uniq_words = list(set(uniq_words))\n",
    "    \n"
   ]
  },
  {
   "cell_type": "markdown",
   "metadata": {},
   "source": [
    "Una vez que tenemos el dataset partido debidamente vamos a comprobar que sean del tamaño deseado y que contengan lo que esperamos."
   ]
  },
  {
   "cell_type": "code",
   "execution_count": 76,
   "metadata": {},
   "outputs": [
    {
     "name": "stdout",
     "output_type": "stream",
     "text": [
      "Train len: 2817 Dev len 314 Test len 783\n",
      "('The', 'Senate-House', 'conference', 'committee', 'is', 'used', '*-1', 'when', 'a', 'bill', 'is', 'passed', '*-3', 'by', 'the', 'House', 'and', 'Senate', 'in', 'different', 'forms', '*T*-2', '.', \"''\")\n",
      "('DET', 'ADJ', 'NOUN', 'NOUN', 'VERB', 'VERB', 'X', 'ADV', 'DET', 'NOUN', 'VERB', 'VERB', 'X', 'ADP', 'DET', 'NOUN', 'CONJ', 'NOUN', 'ADP', 'ADJ', 'NOUN', 'X', '.', '.')\n"
     ]
    }
   ],
   "source": [
    "print(\"Train len:\", len(train_sent), \"Dev len\", len(dev_sent), \"Test len\", len(test_sent))\n",
    "print(train_sent[0])\n",
    "print(train_tags[0])"
   ]
  },
  {
   "cell_type": "markdown",
   "metadata": {},
   "source": [
    "Una vez teniendo separados nuestros datasets, es tiempo de convertir los en números enteros, lo cuál nos va a permitir trabajar con ellos en una red neronal. "
   ]
  },
  {
   "cell_type": "code",
   "execution_count": 77,
   "metadata": {},
   "outputs": [
    {
     "name": "stdout",
     "output_type": "stream",
     "text": [
      "{'PAD': 0, 'OOV': 1, 'BOS': 2, 'EOS': 3, 'DET': 4, 'ADJ': 5, 'NOUN': 6, 'VERB': 7, 'X': 8, 'ADV': 9, 'ADP': 10, 'CONJ': 11, '.': 12, 'NUM': 13, 'PRT': 14, 'PRON': 15}\n",
      "{0: 'PAD', 1: 'OOV', 2: 'BOS', 3: 'EOS', 4: 'DET', 5: 'ADJ', 6: 'NOUN', 7: 'VERB', 8: 'X', 9: 'ADV', 10: 'ADP', 11: 'CONJ', 12: '.', 13: 'NUM', 14: 'PRT', 15: 'PRON'}\n"
     ]
    }
   ],
   "source": [
    "\n",
    "word_to_indx = {\"PAD\":0,\"OOV\":1, \"BOS\":2, \"EOS\":3}\n",
    "indx_to_word = {0:\"PAD\",1:\"OOV\", 2:\"BOS\", 3:\"EOS\"}\n",
    "\n",
    "\n",
    "tag_to_indx = {\"PAD\":0, \"OOV\":1, \"BOS\":2, \"EOS\":3}\n",
    "indx_to_tag = {0:\"PAD\", 1:\"OOV\", 2:\"BOS\", 3:\"EOS\"}\n",
    "\n",
    "for line in train_sent:\n",
    "    for word in line:\n",
    "        if not word in word_to_indx.keys():\n",
    "            word_to_indx[word] = len(word_to_indx)\n",
    "            indx_to_word[len(word_to_indx)-1] = word\n",
    "    \n",
    "for line in train_tags:\n",
    "    for tag in line:\n",
    "        if not tag in tag_to_indx.keys():\n",
    "            tag_to_indx[tag] = len(tag_to_indx)\n",
    "            indx_to_tag[len(tag_to_indx)-1] = tag\n",
    "\n",
    "print(tag_to_indx)\n",
    "print(indx_to_tag)"
   ]
  },
  {
   "cell_type": "markdown",
   "metadata": {},
   "source": [
    "Es hora de convertir todas las frases en valores enteros. Esto lo realizaremos con nuestros índices que creamos arriba."
   ]
  },
  {
   "cell_type": "code",
   "execution_count": 78,
   "metadata": {},
   "outputs": [],
   "source": [
    "def sent_to_int(sent):\n",
    "    int_sent = list()\n",
    "    for word in sent:\n",
    "        if word in word_to_indx.keys():\n",
    "            int_sent.append(word_to_indx[word])\n",
    "        else:\n",
    "            int_sent.append(word_to_indx[\"OOV\"])\n",
    "    return int_sent\n",
    "\n",
    "def tag_to_int(sent):\n",
    "    int_sent = list()\n",
    "    for tag in sent:\n",
    "        if tag in tag_to_indx.keys():\n",
    "            int_sent.append(tag_to_indx[tag])\n",
    "        else:\n",
    "            int_sent.append(tag_to_indx[\"OOV\"])\n",
    "    return int_sent\n",
    "\n",
    "train_X, dev_X, train_Y, dev_Y, test_X, test_Y = list(), list(), list(), list(), list(), list()\n",
    "\n",
    "for lineX, lineY in zip(train_sent, train_tags):\n",
    "    train_X.append(sent_to_int(lineX))\n",
    "    train_Y.append(tag_to_int(lineY))\n",
    "\n",
    "for lineX, lineY in zip(dev_sent, dev_tags):\n",
    "    dev_X.append(sent_to_int(lineX))\n",
    "    dev_Y.append(tag_to_int(lineY))\n",
    "\n",
    "for lineX, lineY in zip(test_sent, test_tags):\n",
    "    test_X.append(sent_to_int(lineX))\n",
    "    test_Y.append(tag_to_int(lineY))"
   ]
  },
  {
   "cell_type": "markdown",
   "metadata": {},
   "source": [
    "Para poder trabajar con datos secuenciales desde keras, será necesario que todas las frases tengan el mismo tamaño. Para ello vamos a llenar los espacios vacíos de cada frase con un símbolo de PAD. Este valor es 0, y está acorde a lo que definimos anteriormente."
   ]
  },
  {
   "cell_type": "code",
   "execution_count": 79,
   "metadata": {},
   "outputs": [
    {
     "name": "stdout",
     "output_type": "stream",
     "text": [
      "2817\n",
      "271\n",
      "[ 4  5  6  7  8  9 10 11 12 13  8 14 15 16 17 18 19 20 21 22 23 24 25 26\n",
      "  0  0  0  0  0  0  0  0  0  0  0  0  0  0  0  0  0  0  0  0  0  0  0  0\n",
      "  0  0  0  0  0  0  0  0  0  0  0  0  0  0  0  0  0  0  0  0  0  0  0  0\n",
      "  0  0  0  0  0  0  0  0  0  0  0  0  0  0  0  0  0  0  0  0  0  0  0  0\n",
      "  0  0  0  0  0  0  0  0  0  0  0  0  0  0  0  0  0  0  0  0  0  0  0  0\n",
      "  0  0  0  0  0  0  0  0  0  0  0  0  0  0  0  0  0  0  0  0  0  0  0  0\n",
      "  0  0  0  0  0  0  0  0  0  0  0  0  0  0  0  0  0  0  0  0  0  0  0  0\n",
      "  0  0  0  0  0  0  0  0  0  0  0  0  0  0  0  0  0  0  0  0  0  0  0  0\n",
      "  0  0  0  0  0  0  0  0  0  0  0  0  0  0  0  0  0  0  0  0  0  0  0  0\n",
      "  0  0  0  0  0  0  0  0  0  0  0  0  0  0  0  0  0  0  0  0  0  0  0  0\n",
      "  0  0  0  0  0  0  0  0  0  0  0  0  0  0  0  0  0  0  0  0  0  0  0  0\n",
      "  0  0  0  0  0  0  0]\n"
     ]
    }
   ],
   "source": [
    "from tensorflow.keras.preprocessing.sequence import pad_sequences\n",
    "\n",
    "MAX_LENGTH = len(max(train_X, key=len))\n",
    "train_X = pad_sequences(maxlen=MAX_LENGTH, sequences=train_X, padding=\"post\")\n",
    "train_Y = pad_sequences(maxlen=MAX_LENGTH, sequences=train_Y, padding=\"post\")\n",
    "dev_X = pad_sequences(maxlen=MAX_LENGTH, sequences=dev_X, padding=\"post\")\n",
    "dev_Y = pad_sequences(maxlen=MAX_LENGTH, sequences=dev_Y, padding=\"post\")\n",
    "test_X = pad_sequences(maxlen=MAX_LENGTH, sequences=test_X, padding=\"post\")\n",
    "test_Y = pad_sequences(maxlen=MAX_LENGTH, sequences=test_Y, padding=\"post\")\n",
    "\n",
    "print(len(train_Y))\n",
    "print(len(train_X[0]))\n",
    "print(train_X[0])"
   ]
  },
  {
   "cell_type": "markdown",
   "metadata": {},
   "source": [
    "Las salidas de cada etiqueta es categórica. Por lo que debemos de ajustar los datos de todas las Y a valores categógicos."
   ]
  },
  {
   "cell_type": "code",
   "execution_count": 80,
   "metadata": {},
   "outputs": [
    {
     "name": "stdout",
     "output_type": "stream",
     "text": [
      "Cantidad de etiquetas: 16\n",
      "Cantidad de ejemplos en train: 2817\n",
      "Cantidad de tokens por ejemplo: 271\n",
      "Tamaño de los vectores en y: 16\n",
      "[[0. 0. 0. ... 0. 0. 0.]\n",
      " [0. 0. 0. ... 0. 0. 0.]\n",
      " [0. 0. 0. ... 0. 0. 0.]\n",
      " ...\n",
      " [1. 0. 0. ... 0. 0. 0.]\n",
      " [1. 0. 0. ... 0. 0. 0.]\n",
      " [1. 0. 0. ... 0. 0. 0.]]\n"
     ]
    }
   ],
   "source": [
    "from tensorflow.keras.utils import to_categorical\n",
    "\n",
    "train_cat_Y = [to_categorical(i, num_classes=len(tag_to_indx)) for i in train_Y]\n",
    "dev_cat_Y = [to_categorical(i, num_classes=len(tag_to_indx)) for i in dev_Y]\n",
    "test_cat_Y = [to_categorical(i, num_classes=len(tag_to_indx)) for i in test_Y]\n",
    "\n",
    "print(\"Cantidad de etiquetas:\", len(tag_to_indx))\n",
    "print(\"Cantidad de ejemplos en train:\", len(train_cat_Y))\n",
    "print(\"Cantidad de tokens por ejemplo:\",len(train_cat_Y[0]))\n",
    "print(\"Tamaño de los vectores en y:\", len(train_cat_Y[0][0]))\n",
    "print(train_cat_Y[0])"
   ]
  },
  {
   "cell_type": "markdown",
   "metadata": {},
   "source": [
    "### Definir el modelo LSTM"
   ]
  },
  {
   "cell_type": "markdown",
   "metadata": {},
   "source": [
    "Es hora de definir el modelo y generar los embeddings para que nuestros datos puedan ser usados en la red neuronal."
   ]
  },
  {
   "cell_type": "code",
   "execution_count": 81,
   "metadata": {},
   "outputs": [],
   "source": [
    "from tensorflow.keras.models import Model\n",
    "from tensorflow.keras.layers import LSTM, Embedding, Dense, TimeDistributed, Dropout, Bidirectional\n",
    "\n",
    "\n",
    "input = keras.Input(shape=(MAX_LENGTH,))\n",
    "model = Embedding(input_dim=len(word_to_indx), output_dim=50, input_length=MAX_LENGTH)(input)\n",
    "model = Dropout(0.1)(model)\n",
    "model = Bidirectional(LSTM(units=100, return_sequences=True, recurrent_dropout=0.1))(model)\n",
    "out = TimeDistributed(Dense(len(tag_to_indx), activation=\"softmax\"))(model)  # softmax output layer"
   ]
  },
  {
   "cell_type": "code",
   "execution_count": 82,
   "metadata": {},
   "outputs": [],
   "source": [
    "model = Model(input, out)"
   ]
  },
  {
   "cell_type": "code",
   "execution_count": 83,
   "metadata": {},
   "outputs": [],
   "source": [
    "model.compile(optimizer=\"rmsprop\", loss=\"categorical_crossentropy\", metrics=[\"accuracy\"])"
   ]
  },
  {
   "cell_type": "code",
   "execution_count": 15,
   "metadata": {},
   "outputs": [
    {
     "name": "stdout",
     "output_type": "stream",
     "text": [
      "271 2817\n",
      "271 2817\n"
     ]
    },
    {
     "name": "stderr",
     "output_type": "stream",
     "text": [
      "WARNING: Logging before flag parsing goes to stderr.\n",
      "W0627 07:27:24.585472 140735824675776 deprecation.py:323] From /Users/jm/miniconda3/envs/escueladl/lib/python3.7/site-packages/tensorflow/python/ops/math_grad.py:1250: add_dispatch_support.<locals>.wrapper (from tensorflow.python.ops.array_ops) is deprecated and will be removed in a future version.\n",
      "Instructions for updating:\n",
      "Use tf.where in 2.0, which has the same broadcast rule as np.where\n"
     ]
    },
    {
     "name": "stdout",
     "output_type": "stream",
     "text": [
      "Train on 2817 samples, validate on 314 samples\n",
      "Epoch 1/5\n",
      "2817/2817 [==============================] - 53s 19ms/sample - loss: 0.3419 - accuracy: 0.9120 - val_loss: 0.2112 - val_accuracy: 0.9327\n",
      "Epoch 2/5\n",
      "2817/2817 [==============================] - 49s 18ms/sample - loss: 0.1900 - accuracy: 0.9386 - val_loss: 0.1532 - val_accuracy: 0.9534\n",
      "Epoch 3/5\n",
      "2817/2817 [==============================] - 47s 17ms/sample - loss: 0.0994 - accuracy: 0.9726 - val_loss: 0.0624 - val_accuracy: 0.9795\n",
      "Epoch 4/5\n",
      "2817/2817 [==============================] - 52s 18ms/sample - loss: 0.0433 - accuracy: 0.9877 - val_loss: 0.0324 - val_accuracy: 0.9902\n",
      "Epoch 5/5\n",
      "2817/2817 [==============================] - 43s 15ms/sample - loss: 0.0227 - accuracy: 0.9938 - val_loss: 0.0257 - val_accuracy: 0.9921\n"
     ]
    }
   ],
   "source": [
    "import numpy as np\n",
    "print(len(train_X[0]), len(train_X))\n",
    "print(len(train_cat_Y[0]), len(train_cat_Y))\n",
    "\n",
    "history = model.fit(train_X, np.array(train_cat_Y), batch_size=32, epochs=5, validation_data=[dev_X, np.array(dev_cat_Y)], verbose=1)"
   ]
  },
  {
   "cell_type": "markdown",
   "metadata": {},
   "source": [
    "# Resultados"
   ]
  },
  {
   "cell_type": "markdown",
   "metadata": {},
   "source": [
    "Veamos como se comportó nuestro modelo a travéz de las épocas de entrenamiento. Vemos tanto el accuracy sobre el conjunto de entrenamiento, así como también sobre el conjunto de validación."
   ]
  },
  {
   "cell_type": "code",
   "execution_count": 70,
   "metadata": {},
   "outputs": [
    {
     "ename": "KeyError",
     "evalue": "'accuracy'",
     "output_type": "error",
     "traceback": [
      "\u001b[0;31m---------------------------------------------------------------------------\u001b[0m",
      "\u001b[0;31mKeyError\u001b[0m                                  Traceback (most recent call last)",
      "\u001b[0;32m~/miniconda3/envs/escueladl/lib/python3.7/site-packages/pandas/core/indexes/base.py\u001b[0m in \u001b[0;36mget_loc\u001b[0;34m(self, key, method, tolerance)\u001b[0m\n\u001b[1;32m   2656\u001b[0m             \u001b[0;32mtry\u001b[0m\u001b[0;34m:\u001b[0m\u001b[0;34m\u001b[0m\u001b[0;34m\u001b[0m\u001b[0m\n\u001b[0;32m-> 2657\u001b[0;31m                 \u001b[0;32mreturn\u001b[0m \u001b[0mself\u001b[0m\u001b[0;34m.\u001b[0m\u001b[0m_engine\u001b[0m\u001b[0;34m.\u001b[0m\u001b[0mget_loc\u001b[0m\u001b[0;34m(\u001b[0m\u001b[0mkey\u001b[0m\u001b[0;34m)\u001b[0m\u001b[0;34m\u001b[0m\u001b[0;34m\u001b[0m\u001b[0m\n\u001b[0m\u001b[1;32m   2658\u001b[0m             \u001b[0;32mexcept\u001b[0m \u001b[0mKeyError\u001b[0m\u001b[0;34m:\u001b[0m\u001b[0;34m\u001b[0m\u001b[0;34m\u001b[0m\u001b[0m\n",
      "\u001b[0;32mpandas/_libs/index.pyx\u001b[0m in \u001b[0;36mpandas._libs.index.IndexEngine.get_loc\u001b[0;34m()\u001b[0m\n",
      "\u001b[0;32mpandas/_libs/index.pyx\u001b[0m in \u001b[0;36mpandas._libs.index.IndexEngine.get_loc\u001b[0;34m()\u001b[0m\n",
      "\u001b[0;32mpandas/_libs/hashtable_class_helper.pxi\u001b[0m in \u001b[0;36mpandas._libs.hashtable.PyObjectHashTable.get_item\u001b[0;34m()\u001b[0m\n",
      "\u001b[0;32mpandas/_libs/hashtable_class_helper.pxi\u001b[0m in \u001b[0;36mpandas._libs.hashtable.PyObjectHashTable.get_item\u001b[0;34m()\u001b[0m\n",
      "\u001b[0;31mKeyError\u001b[0m: 'accuracy'",
      "\nDuring handling of the above exception, another exception occurred:\n",
      "\u001b[0;31mKeyError\u001b[0m                                  Traceback (most recent call last)",
      "\u001b[0;32m<ipython-input-70-56963aadbbd5>\u001b[0m in \u001b[0;36m<module>\u001b[0;34m\u001b[0m\n\u001b[1;32m      4\u001b[0m \u001b[0mhist\u001b[0m \u001b[0;34m=\u001b[0m \u001b[0mpd\u001b[0m\u001b[0;34m.\u001b[0m\u001b[0mDataFrame\u001b[0m\u001b[0;34m(\u001b[0m\u001b[0mhistory\u001b[0m\u001b[0;34m.\u001b[0m\u001b[0mhistory\u001b[0m\u001b[0;34m)\u001b[0m\u001b[0;34m\u001b[0m\u001b[0;34m\u001b[0m\u001b[0m\n\u001b[1;32m      5\u001b[0m \u001b[0mplt\u001b[0m\u001b[0;34m.\u001b[0m\u001b[0mfigure\u001b[0m\u001b[0;34m(\u001b[0m\u001b[0mfigsize\u001b[0m\u001b[0;34m=\u001b[0m\u001b[0;34m(\u001b[0m\u001b[0;36m12\u001b[0m\u001b[0;34m,\u001b[0m\u001b[0;36m12\u001b[0m\u001b[0;34m)\u001b[0m\u001b[0;34m)\u001b[0m\u001b[0;34m\u001b[0m\u001b[0;34m\u001b[0m\u001b[0m\n\u001b[0;32m----> 6\u001b[0;31m \u001b[0mplt\u001b[0m\u001b[0;34m.\u001b[0m\u001b[0mplot\u001b[0m\u001b[0;34m(\u001b[0m\u001b[0mhist\u001b[0m\u001b[0;34m[\u001b[0m\u001b[0;34m\"accuracy\"\u001b[0m\u001b[0;34m]\u001b[0m\u001b[0;34m)\u001b[0m\u001b[0;34m\u001b[0m\u001b[0;34m\u001b[0m\u001b[0m\n\u001b[0m\u001b[1;32m      7\u001b[0m \u001b[0mplt\u001b[0m\u001b[0;34m.\u001b[0m\u001b[0mplot\u001b[0m\u001b[0;34m(\u001b[0m\u001b[0mhist\u001b[0m\u001b[0;34m[\u001b[0m\u001b[0;34m\"val_accuracy\"\u001b[0m\u001b[0;34m]\u001b[0m\u001b[0;34m)\u001b[0m\u001b[0;34m\u001b[0m\u001b[0;34m\u001b[0m\u001b[0m\n\u001b[1;32m      8\u001b[0m \u001b[0mplt\u001b[0m\u001b[0;34m.\u001b[0m\u001b[0mshow\u001b[0m\u001b[0;34m(\u001b[0m\u001b[0;34m)\u001b[0m\u001b[0;34m\u001b[0m\u001b[0;34m\u001b[0m\u001b[0m\n",
      "\u001b[0;32m~/miniconda3/envs/escueladl/lib/python3.7/site-packages/pandas/core/frame.py\u001b[0m in \u001b[0;36m__getitem__\u001b[0;34m(self, key)\u001b[0m\n\u001b[1;32m   2925\u001b[0m             \u001b[0;32mif\u001b[0m \u001b[0mself\u001b[0m\u001b[0;34m.\u001b[0m\u001b[0mcolumns\u001b[0m\u001b[0;34m.\u001b[0m\u001b[0mnlevels\u001b[0m \u001b[0;34m>\u001b[0m \u001b[0;36m1\u001b[0m\u001b[0;34m:\u001b[0m\u001b[0;34m\u001b[0m\u001b[0;34m\u001b[0m\u001b[0m\n\u001b[1;32m   2926\u001b[0m                 \u001b[0;32mreturn\u001b[0m \u001b[0mself\u001b[0m\u001b[0;34m.\u001b[0m\u001b[0m_getitem_multilevel\u001b[0m\u001b[0;34m(\u001b[0m\u001b[0mkey\u001b[0m\u001b[0;34m)\u001b[0m\u001b[0;34m\u001b[0m\u001b[0;34m\u001b[0m\u001b[0m\n\u001b[0;32m-> 2927\u001b[0;31m             \u001b[0mindexer\u001b[0m \u001b[0;34m=\u001b[0m \u001b[0mself\u001b[0m\u001b[0;34m.\u001b[0m\u001b[0mcolumns\u001b[0m\u001b[0;34m.\u001b[0m\u001b[0mget_loc\u001b[0m\u001b[0;34m(\u001b[0m\u001b[0mkey\u001b[0m\u001b[0;34m)\u001b[0m\u001b[0;34m\u001b[0m\u001b[0;34m\u001b[0m\u001b[0m\n\u001b[0m\u001b[1;32m   2928\u001b[0m             \u001b[0;32mif\u001b[0m \u001b[0mis_integer\u001b[0m\u001b[0;34m(\u001b[0m\u001b[0mindexer\u001b[0m\u001b[0;34m)\u001b[0m\u001b[0;34m:\u001b[0m\u001b[0;34m\u001b[0m\u001b[0;34m\u001b[0m\u001b[0m\n\u001b[1;32m   2929\u001b[0m                 \u001b[0mindexer\u001b[0m \u001b[0;34m=\u001b[0m \u001b[0;34m[\u001b[0m\u001b[0mindexer\u001b[0m\u001b[0;34m]\u001b[0m\u001b[0;34m\u001b[0m\u001b[0;34m\u001b[0m\u001b[0m\n",
      "\u001b[0;32m~/miniconda3/envs/escueladl/lib/python3.7/site-packages/pandas/core/indexes/base.py\u001b[0m in \u001b[0;36mget_loc\u001b[0;34m(self, key, method, tolerance)\u001b[0m\n\u001b[1;32m   2657\u001b[0m                 \u001b[0;32mreturn\u001b[0m \u001b[0mself\u001b[0m\u001b[0;34m.\u001b[0m\u001b[0m_engine\u001b[0m\u001b[0;34m.\u001b[0m\u001b[0mget_loc\u001b[0m\u001b[0;34m(\u001b[0m\u001b[0mkey\u001b[0m\u001b[0;34m)\u001b[0m\u001b[0;34m\u001b[0m\u001b[0;34m\u001b[0m\u001b[0m\n\u001b[1;32m   2658\u001b[0m             \u001b[0;32mexcept\u001b[0m \u001b[0mKeyError\u001b[0m\u001b[0;34m:\u001b[0m\u001b[0;34m\u001b[0m\u001b[0;34m\u001b[0m\u001b[0m\n\u001b[0;32m-> 2659\u001b[0;31m                 \u001b[0;32mreturn\u001b[0m \u001b[0mself\u001b[0m\u001b[0;34m.\u001b[0m\u001b[0m_engine\u001b[0m\u001b[0;34m.\u001b[0m\u001b[0mget_loc\u001b[0m\u001b[0;34m(\u001b[0m\u001b[0mself\u001b[0m\u001b[0;34m.\u001b[0m\u001b[0m_maybe_cast_indexer\u001b[0m\u001b[0;34m(\u001b[0m\u001b[0mkey\u001b[0m\u001b[0;34m)\u001b[0m\u001b[0;34m)\u001b[0m\u001b[0;34m\u001b[0m\u001b[0;34m\u001b[0m\u001b[0m\n\u001b[0m\u001b[1;32m   2660\u001b[0m         \u001b[0mindexer\u001b[0m \u001b[0;34m=\u001b[0m \u001b[0mself\u001b[0m\u001b[0;34m.\u001b[0m\u001b[0mget_indexer\u001b[0m\u001b[0;34m(\u001b[0m\u001b[0;34m[\u001b[0m\u001b[0mkey\u001b[0m\u001b[0;34m]\u001b[0m\u001b[0;34m,\u001b[0m \u001b[0mmethod\u001b[0m\u001b[0;34m=\u001b[0m\u001b[0mmethod\u001b[0m\u001b[0;34m,\u001b[0m \u001b[0mtolerance\u001b[0m\u001b[0;34m=\u001b[0m\u001b[0mtolerance\u001b[0m\u001b[0;34m)\u001b[0m\u001b[0;34m\u001b[0m\u001b[0;34m\u001b[0m\u001b[0m\n\u001b[1;32m   2661\u001b[0m         \u001b[0;32mif\u001b[0m \u001b[0mindexer\u001b[0m\u001b[0;34m.\u001b[0m\u001b[0mndim\u001b[0m \u001b[0;34m>\u001b[0m \u001b[0;36m1\u001b[0m \u001b[0;32mor\u001b[0m \u001b[0mindexer\u001b[0m\u001b[0;34m.\u001b[0m\u001b[0msize\u001b[0m \u001b[0;34m>\u001b[0m \u001b[0;36m1\u001b[0m\u001b[0;34m:\u001b[0m\u001b[0;34m\u001b[0m\u001b[0;34m\u001b[0m\u001b[0m\n",
      "\u001b[0;32mpandas/_libs/index.pyx\u001b[0m in \u001b[0;36mpandas._libs.index.IndexEngine.get_loc\u001b[0;34m()\u001b[0m\n",
      "\u001b[0;32mpandas/_libs/index.pyx\u001b[0m in \u001b[0;36mpandas._libs.index.IndexEngine.get_loc\u001b[0;34m()\u001b[0m\n",
      "\u001b[0;32mpandas/_libs/hashtable_class_helper.pxi\u001b[0m in \u001b[0;36mpandas._libs.hashtable.PyObjectHashTable.get_item\u001b[0;34m()\u001b[0m\n",
      "\u001b[0;32mpandas/_libs/hashtable_class_helper.pxi\u001b[0m in \u001b[0;36mpandas._libs.hashtable.PyObjectHashTable.get_item\u001b[0;34m()\u001b[0m\n",
      "\u001b[0;31mKeyError\u001b[0m: 'accuracy'"
     ]
    }
   ],
   "source": [
    "import pandas as pd\n",
    "import matplotlib.pyplot as plt\n",
    "\n",
    "hist = pd.DataFrame(history.history)\n",
    "plt.figure(figsize=(12,12))\n",
    "plt.plot(hist[\"accuracy\"])\n",
    "plt.plot(hist[\"val_accuracy\"])\n",
    "plt.show()"
   ]
  },
  {
   "cell_type": "markdown",
   "metadata": {},
   "source": [
    "Por último guardamos el modelo."
   ]
  },
  {
   "cell_type": "code",
   "execution_count": 35,
   "metadata": {},
   "outputs": [],
   "source": [
    "model.save(\"Models/pos_tagging.h5\")"
   ]
  },
  {
   "cell_type": "markdown",
   "metadata": {},
   "source": [
    "## Herarchical LSTM"
   ]
  },
  {
   "cell_type": "markdown",
   "metadata": {},
   "source": [
    "En ocaciones no es posible ver todo el diccionario en el entrenamiento. Normalmente se tratan a palabras no vistas previamente como OOC (Fuera del vocabulario). Esto es práctico para idiomas como inglés. Pero no lo es tanto para otros idiomas con mucha riqueza morfológica, como turco. Es común encontrar en idiomas así palabras nuevas. Por ello, vamos a ver cómo comar en cuenta la información de sub palabra. Para ello vamos a codificar los caracteres con ayuda de un LSTM y concatenarlo con la información por palabra que ya tenemos.\n",
    "\n",
    "Primero extraemos los caracteres y creamos diccionarios."
   ]
  },
  {
   "cell_type": "code",
   "execution_count": 20,
   "metadata": {},
   "outputs": [
    {
     "name": "stdout",
     "output_type": "stream",
     "text": [
      "{'PAD': 0, 'OOV': 1, 'BOS': 2, 'EOS': 3, '@': 4, 'c': 5, 'x': 6, '?': 7, 'F': 8, 'b': 9, 'l': 10, '6': 11, 'J': 12, '/': 13, 'A': 14, '*': 15, 'k': 16, 'U': 17, 'q': 18, 'N': 19, \"'\": 20, 'G': 21, '.': 22, 'f': 23, '-': 24, 'P': 25, 'Q': 26, 'o': 27, 'X': 28, ',': 29, '$': 30, 'g': 31, '%': 32, ';': 33, '4': 34, '1': 35, '#': 36, 'W': 37, 'r': 38, 'e': 39, 'm': 40, '8': 41, 'p': 42, '`': 43, 'K': 44, 'y': 45, 'I': 46, ':': 47, '9': 48, 'E': 49, 'M': 50, 'i': 51, 'Z': 52, 'H': 53, 'S': 54, '5': 55, 's': 56, 't': 57, 'v': 58, 'h': 59, 'w': 60, 'D': 61, 'd': 62, '\\\\': 63, 'R': 64, '2': 65, '&': 66, 'T': 67, 'n': 68, 'V': 69, 'a': 70, 'B': 71, '3': 72, 'u': 73, 'z': 74, 'C': 75, '7': 76, 'j': 77, '0': 78, 'L': 79, '!': 80, 'O': 81, 'Y': 82}\n"
     ]
    }
   ],
   "source": [
    "char_to_indx = {\"PAD\":0,\"OOV\":1, \"BOS\":2, \"EOS\":3}\n",
    "indx_to_char = {0:\"PAD\",1:\"OOV\", 2:\"BOS\", 3:\"EOS\"}\n",
    "\n",
    "chars = list()\n",
    "\n",
    "for sent in train_sent:\n",
    "    for word in sent:\n",
    "        for c in word:\n",
    "            chars.append(c)\n",
    "\n",
    "chars = list(set(chars))\n",
    "\n",
    "for c in chars:\n",
    "    char_to_indx[c] = len(char_to_indx)\n",
    "\n",
    "print(char_to_indx)"
   ]
  },
  {
   "cell_type": "raw",
   "metadata": {},
   "source": [
    "Para luego codificar todos los ejemplos de entrenamiento en vectores de enteros. "
   ]
  },
  {
   "cell_type": "code",
   "execution_count": 27,
   "metadata": {},
   "outputs": [
    {
     "name": "stdout",
     "output_type": "stream",
     "text": [
      "[[67 38 51 ...  0  0  0]\n",
      " [56 70 51 ...  0  0  0]\n",
      " [78  0  0 ...  0  0  0]\n",
      " ...\n",
      " [ 0  0  0 ...  0  0  0]\n",
      " [ 0  0  0 ...  0  0  0]\n",
      " [ 0  0  0 ...  0  0  0]]\n"
     ]
    }
   ],
   "source": [
    "MAX_LEN_CHAR = 20\n",
    "\n",
    "X_char_train = []\n",
    "for sent in train_sent:\n",
    "    sent_seq = []\n",
    "    for i in range(MAX_LENGTH):\n",
    "        word_seq = []\n",
    "        for j in range(MAX_LEN_CHAR):\n",
    "            try:\n",
    "                word_seq.append(char_to_indx.get(sentence[i][0][j]))\n",
    "            except:\n",
    "                word_seq.append(char_to_indx.get(\"PAD\"))\n",
    "        sent_seq.append(word_seq)\n",
    "    X_char_train.append(np.array(sent_seq))\n",
    "    \n",
    "X_char_dev = []\n",
    "for sent in dev_sent:\n",
    "    sent_seq = []\n",
    "    for i in range(MAX_LENGTH):\n",
    "        word_seq = []\n",
    "        for j in range(MAX_LEN_CHAR):\n",
    "            try:\n",
    "                word_seq.append(char_to_indx.get(sentence[i][0][j]))\n",
    "            except:\n",
    "                word_seq.append(char_to_indx.get(\"PAD\"))\n",
    "        sent_seq.append(word_seq)\n",
    "    X_char_dev.append(np.array(sent_seq))\n",
    "    \n",
    "    \n",
    "print(X_char[0])"
   ]
  },
  {
   "cell_type": "code",
   "execution_count": 42,
   "metadata": {},
   "outputs": [],
   "source": [
    "from tensorflow.keras.models import Model\n",
    "from tensorflow.keras.layers import LSTM, Embedding, Dense, TimeDistributed, Dropout, Conv1D\n",
    "from tensorflow.keras.layers import Bidirectional, concatenate, SpatialDropout1D, GlobalMaxPooling1D\n",
    "from tensorflow.keras.layers import Input"
   ]
  },
  {
   "cell_type": "code",
   "execution_count": 45,
   "metadata": {},
   "outputs": [],
   "source": [
    "word_in = Input(shape=(MAX_LENGTH,))\n",
    "emb_word = Embedding(input_dim=len(word_to_indx), output_dim=20,\n",
    "                     input_length=MAX_LENGTH, mask_zero=True)(word_in)\n",
    "\n",
    "char_in = Input(shape=(MAX_LENGTH, MAX_LEN_CHAR,))\n",
    "emb_char = TimeDistributed(Embedding(input_dim=len(char_to_indx), output_dim=10,\n",
    "                           input_length=MAX_LEN_CHAR, mask_zero=True))(char_in)\n",
    "\n",
    "char_enc = TimeDistributed(LSTM(units=20, return_sequences=False,\n",
    "                                recurrent_dropout=0.5))(emb_char)\n",
    "\n",
    "x = concatenate([emb_word, char_enc])\n",
    "x = SpatialDropout1D(0.3)(x)\n",
    "main_lstm = Bidirectional(LSTM(units=50, return_sequences=True,\n",
    "                               recurrent_dropout=0.6))(x)\n",
    "out = TimeDistributed(Dense(len(tag_to_indx), activation=\"softmax\"))(main_lstm)\n",
    "\n",
    "model = Model([word_in, char_in], out)"
   ]
  },
  {
   "cell_type": "markdown",
   "metadata": {},
   "source": [
    "Preparamos el modelo..."
   ]
  },
  {
   "cell_type": "code",
   "execution_count": null,
   "metadata": {},
   "outputs": [],
   "source": []
  },
  {
   "cell_type": "code",
   "execution_count": 50,
   "metadata": {},
   "outputs": [
    {
     "name": "stdout",
     "output_type": "stream",
     "text": [
      "Model: \"model_1\"\n",
      "__________________________________________________________________________________________________\n",
      "Layer (type)                    Output Shape         Param #     Connected to                     \n",
      "==================================================================================================\n",
      "input_7 (InputLayer)            [(None, 271, 20)]    0                                            \n",
      "__________________________________________________________________________________________________\n",
      "input_6 (InputLayer)            [(None, 271)]        0                                            \n",
      "__________________________________________________________________________________________________\n",
      "time_distributed_4 (TimeDistrib (None, 271, 20, 10)  830         input_7[0][0]                    \n",
      "__________________________________________________________________________________________________\n",
      "embedding_4 (Embedding)         (None, 271, 20)      207260      input_6[0][0]                    \n",
      "__________________________________________________________________________________________________\n",
      "time_distributed_5 (TimeDistrib (None, 271, 20)      2480        time_distributed_4[0][0]         \n",
      "__________________________________________________________________________________________________\n",
      "concatenate_1 (Concatenate)     (None, 271, 40)      0           embedding_4[0][0]                \n",
      "                                                                 time_distributed_5[0][0]         \n",
      "__________________________________________________________________________________________________\n",
      "spatial_dropout1d_1 (SpatialDro (None, 271, 40)      0           concatenate_1[0][0]              \n",
      "__________________________________________________________________________________________________\n",
      "bidirectional_3 (Bidirectional) (None, 271, 100)     36400       spatial_dropout1d_1[0][0]        \n",
      "__________________________________________________________________________________________________\n",
      "time_distributed_6 (TimeDistrib (None, 271, 16)      1616        bidirectional_3[0][0]            \n",
      "==================================================================================================\n",
      "Total params: 248,586\n",
      "Trainable params: 248,586\n",
      "Non-trainable params: 0\n",
      "__________________________________________________________________________________________________\n"
     ]
    }
   ],
   "source": [
    "model.compile(optimizer=\"adam\", loss=\"sparse_categorical_crossentropy\", metrics=[\"acc\"])\n",
    "model.summary()"
   ]
  },
  {
   "cell_type": "code",
   "execution_count": 68,
   "metadata": {},
   "outputs": [
    {
     "ename": "SyntaxError",
     "evalue": "invalid syntax (<ipython-input-68-85765298f3d7>, line 1)",
     "output_type": "error",
     "traceback": [
      "\u001b[0;36m  File \u001b[0;32m\"<ipython-input-68-85765298f3d7>\"\u001b[0;36m, line \u001b[0;32m1\u001b[0m\n\u001b[0;31m    Entrenamos el modelo. Es tener en cuenta que nuestras dimensiones deben coincidir y por ellos tenemos los reshape.\u001b[0m\n\u001b[0m                ^\u001b[0m\n\u001b[0;31mSyntaxError\u001b[0m\u001b[0;31m:\u001b[0m invalid syntax\n"
     ]
    }
   ],
   "source": [
    "Entrenamos el modelo. Es tener en cuenta que nuestras dimensiones deben coincidir y por ellos tenemos los reshape."
   ]
  },
  {
   "cell_type": "code",
   "execution_count": 67,
   "metadata": {},
   "outputs": [
    {
     "name": "stdout",
     "output_type": "stream",
     "text": [
      "(2817, 271, 20)\n",
      "(2817, 271)\n",
      "(2817, 271, 16)\n",
      "Train on 2535 samples, validate on 282 samples\n",
      "Epoch 1/10\n",
      "2535/2535 [==============================] - 67s 26ms/sample - loss: 0.1364 - acc: 0.2860 - val_loss: 0.1235 - val_acc: 0.3006\n",
      "Epoch 2/10\n",
      "2535/2535 [==============================] - 64s 25ms/sample - loss: 0.1176 - acc: 0.3297 - val_loss: 0.1015 - val_acc: 0.4554\n",
      "Epoch 3/10\n",
      "2535/2535 [==============================] - 64s 25ms/sample - loss: 0.0803 - acc: 0.5964 - val_loss: 0.0537 - val_acc: 0.7160\n",
      "Epoch 4/10\n",
      "2535/2535 [==============================] - 67s 26ms/sample - loss: 0.0419 - acc: 0.7871 - val_loss: 0.0289 - val_acc: 0.8524\n",
      "Epoch 5/10\n",
      "2535/2535 [==============================] - 66s 26ms/sample - loss: 0.0233 - acc: 0.9009 - val_loss: 0.0195 - val_acc: 0.9166\n",
      "Epoch 6/10\n",
      "2535/2535 [==============================] - 62s 25ms/sample - loss: 0.0146 - acc: 0.9475 - val_loss: 0.0159 - val_acc: 0.9307\n",
      "Epoch 7/10\n",
      "2535/2535 [==============================] - 65s 26ms/sample - loss: 0.0104 - acc: 0.9628 - val_loss: 0.0144 - val_acc: 0.9316\n",
      "Epoch 8/10\n",
      "2535/2535 [==============================] - 68s 27ms/sample - loss: 0.0080 - acc: 0.9704 - val_loss: 0.0134 - val_acc: 0.9332\n",
      "Epoch 9/10\n",
      "2535/2535 [==============================] - 66s 26ms/sample - loss: 0.0067 - acc: 0.9737 - val_loss: 0.0133 - val_acc: 0.9332\n",
      "Epoch 10/10\n",
      "2535/2535 [==============================] - 66s 26ms/sample - loss: 0.0058 - acc: 0.9767 - val_loss: 0.0126 - val_acc: 0.9363\n"
     ]
    }
   ],
   "source": [
    "print(np.array(X_char_train).shape)\n",
    "print(np.array(train_X).shape)\n",
    "#print(np.array(train_cat_Y).shape)\n",
    "print(np.array(train_cat_Y).shape)\n",
    "#Y_re = np.array(train_cat_Y).reshape(len(train_cat_Y), MAX_LENGTH, 1)\n",
    "X_char_re = np.array(X_char_train).reshape(len(X_char_train), MAX_LENGTH, MAX_LEN_CHAR)\n",
    "history = model.fit([train_X, X_char_re], np.array(train_Y).reshape(len(X_char_train), MAX_LENGTH, 1),\n",
    "                    batch_size=32, epochs=10, validation_data=[np.array(X_char_dev).reshape(len(X_char_dev), MAX_LENGTH, MAX_LEN_CHAR), \n",
    "                                                              np.array(dev_Y).reshape(len(X_dev), MAX_LENGTH, 1)], verbose=1)"
   ]
  },
  {
   "cell_type": "markdown",
   "metadata": {},
   "source": [
    "Mostramos los resultados. "
   ]
  },
  {
   "cell_type": "code",
   "execution_count": 89,
   "metadata": {},
   "outputs": [
    {
     "name": "stdout",
     "output_type": "stream",
     "text": [
      "       loss       acc  val_loss   val_acc\n",
      "0  0.136431  0.285966  0.123543  0.300591\n",
      "1  0.117647  0.329653  0.101466  0.455434\n",
      "2  0.080323  0.596360  0.053688  0.716007\n",
      "3  0.041949  0.787113  0.028855  0.852433\n",
      "4  0.023292  0.900880  0.019481  0.916553\n",
      "5  0.014557  0.947541  0.015861  0.930650\n",
      "6  0.010350  0.962792  0.014394  0.931560\n",
      "7  0.007950  0.970380  0.013413  0.933151\n",
      "8  0.006696  0.973682  0.013297  0.933151\n",
      "9  0.005768  0.976707  0.012621  0.936335\n"
     ]
    },
    {
     "data": {
      "image/png": "[encoded data removed]",
      "text/plain": [
       "<Figure size 864x864 with 1 Axes>"
      ]
     },
     "metadata": {
      "needs_background": "light"
     },
     "output_type": "display_data"
    }
   ],
   "source": [
    "import pandas as pd\n",
    "\n",
    "hist = pd.DataFrame(history.history)\n",
    "plt.figure(figsize=(12,12))\n",
    "print(hist)\n",
    "plt.plot(hist[\"acc\"])\n",
    "plt.plot(hist[\"val_acc\"])\n",
    "plt.show()"
   ]
  },
  {
   "cell_type": "markdown",
   "metadata": {},
   "source": [
    "## Ejercicios"
   ]
  },
  {
   "cell_type": "markdown",
   "metadata": {},
   "source": [
    "Cómo hemos visto las LSTM son muy poderosas para lograr procesar datos secuenciales. En este ejemplo vimos cómo inferir una clase por cada ejemplo de entrada y lo aplicamos para analizar la gramática de un enunciado.\n",
    "\n",
    "El ejemplo que mostramos es clásico, pero: ¿Qué otras aplicaciones puede tener este tipo de clasificación?\n",
    "\n",
    "* Encuentre otra aplicación y una base de datos para este modelo y utilicela para relizar predicciones."
   ]
  }
 ],
 "metadata": {
  "kernelspec": {
   "display_name": "Python 3",
   "language": "python",
   "name": "python3"
  },
  "language_info": {
   "codemirror_mode": {
    "name": "ipython",
    "version": 3
   },
   "file_extension": ".py",
   "mimetype": "text/x-python",
   "name": "python",
   "nbconvert_exporter": "python",
   "pygments_lexer": "ipython3",
   "version": "3.7.3"
  }
 },
 "nbformat": 4,
 "nbformat_minor": 2
}
